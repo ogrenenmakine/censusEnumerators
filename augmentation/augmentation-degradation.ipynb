{
 "cells": [
  {
   "cell_type": "code",
   "execution_count": 1,
   "metadata": {
    "slideshow": {
     "slide_type": "skip"
    }
   },
   "outputs": [],
   "source": [
    "import scipy.ndimage as ndi\n",
    "import ocrodeg\n",
    "import cv2\n",
    "import glob\n",
    "import shutil\n",
    "import numpy as np\n",
    "import random\n",
    "global pi\n",
    "pi = 3.14"
   ]
  },
  {
   "cell_type": "code",
   "execution_count": 12,
   "metadata": {},
   "outputs": [],
   "source": [
    "with open('/home/mcyavuz/.mxnet/datasets/voc/VOCNACDwNegswAug/ImageSets/Main/test.txt') as f:\n",
    "    content = f.readlines()\n",
    "content = [x.strip() for x in content] \n",
    "for filename in content:\n",
    "    _str = '/home/mcyavuz/.mxnet/datasets/voc/VOCNACDwNegswAug/JPEGImages/'+filename+'.jpg'\n",
    "    aug_str = '/home/mcyavuz/.mxnet/datasets/voc/VOCNACDwNegswAug/test/'+filename+'.jpg'\n",
    "    shutil.move(_str, aug_str) "
   ]
  },
  {
   "cell_type": "code",
   "execution_count": 13,
   "metadata": {},
   "outputs": [],
   "source": [
    "with open('/home/mcyavuz/.mxnet/datasets/voc/VOCNACDwNegswAug/ImageSets/Main/val.txt') as f:\n",
    "    content = f.readlines()\n",
    "content = [x.strip() for x in content] \n",
    "for filename in content:\n",
    "    _str = '/home/mcyavuz/.mxnet/datasets/voc/VOCNACDwNegswAug/JPEGImages/'+filename+'.jpg'\n",
    "    aug_str = '/home/mcyavuz/.mxnet/datasets/voc/VOCNACDwNegswAug/val/'+filename+'.jpg'\n",
    "    shutil.move(_str, aug_str) "
   ]
  },
  {
   "cell_type": "code",
   "execution_count": 4,
   "metadata": {},
   "outputs": [],
   "source": [
    "for filename in glob.glob('/home/mcyavuz/.mxnet/datasets/voc/VOCNACDwNegswAug/JPEGImages/*.jpg'):\n",
    "    for i in range(8):\n",
    "        strng = filename.split('/')\n",
    "        strng2 = strng[-1:][0][:-4]\n",
    "        image = cv2.imread(filename)\n",
    "        img_yuv = cv2.cvtColor(image, cv2.COLOR_BGR2YUV)\n",
    "        y, u, v = cv2.split(img_yuv)\n",
    "        image = y.astype(np.float32)/256\n",
    "        if random.random() > 0.5:\n",
    "            image = ocrodeg.transform_image(image, angle=random.choice([-2, -1, 0, 1])*pi/180)\n",
    "        if random.random() > 0.5:\n",
    "            noise = ocrodeg.noise_distort1d(image.shape, magnitude=random.choice([5.0, 10.0, 20.0]))\n",
    "            image = ocrodeg.distort_with_noise(image, noise)\n",
    "        if random.random() > 0.5:\n",
    "            image = ndi.gaussian_filter(image, random.choice([0, 1, 2]))\n",
    "        if random.random() > 0.2:\n",
    "            image = ocrodeg.printlike_multiscale(image)\n",
    "        y = image*256\n",
    "        y = y.astype(np.uint8)\n",
    "        y = np.expand_dims(y, axis=2)\n",
    "        u = np.expand_dims(u, axis=2)\n",
    "        v = np.expand_dims(v, axis=2)\n",
    "        img = np.concatenate((y,u,v), axis=2)\n",
    "        img = cv2.cvtColor(img, cv2.COLOR_YUV2BGR)\n",
    "        aug_str = '/'+strng[1]+'/'+strng[2]+'/'+strng[3]+'/'+strng[4]+'/'+strng[5]+'/'+strng[6]+'/'+strng[7]+'/'+strng2+'_aug'+str(i)+'.jpg'\n",
    "        cv2.imwrite(aug_str,img)\n",
    "        aug_str = '/'+strng[1]+'/'+strng[2]+'/'+strng[3]+'/'+strng[4]+'/'+strng[5]+'/'+strng[6]+'/'+'Annotations'+'/'+strng2+'_aug'+str(i)+'.xml'\n",
    "        _str = '/'+strng[1]+'/'+strng[2]+'/'+strng[3]+'/'+strng[4]+'/'+strng[5]+'/'+strng[6]+'/'+'Annotations'+'/'+strng2+'.xml'\n",
    "        shutil.copy(_str, aug_str)  "
   ]
  },
  {
   "cell_type": "code",
   "execution_count": 5,
   "metadata": {
    "slideshow": {
     "slide_type": "slide"
    }
   },
   "outputs": [],
   "source": [
    "for filename in glob.glob('/home/mcyavuz/.mxnet/datasets/voc/VOCNACDwNegswAug/val/*.jpg'):\n",
    "    for i in range(8):\n",
    "        strng = filename.split('/')\n",
    "        strng2 = strng[-1:][0][:-4]\n",
    "        image = cv2.imread(filename)\n",
    "        img_yuv = cv2.cvtColor(image, cv2.COLOR_BGR2YUV)\n",
    "        y, u, v = cv2.split(img_yuv)\n",
    "        image = y.astype(np.float32)/256\n",
    "        if random.random() > 0.5:\n",
    "            image = ocrodeg.transform_image(image, angle=random.choice([-2, -1, 0, 1])*pi/180)\n",
    "        if random.random() > 0.5:\n",
    "            noise = ocrodeg.noise_distort1d(image.shape, magnitude=random.choice([5.0, 10.0, 20.0]))\n",
    "            image = ocrodeg.distort_with_noise(image, noise)\n",
    "        if random.random() > 0.5:\n",
    "            image = ndi.gaussian_filter(image, random.choice([0, 1, 2]))\n",
    "        if random.random() > 0.2:\n",
    "            image = ocrodeg.printlike_multiscale(image)\n",
    "        y = image*256\n",
    "        y = y.astype(np.uint8)\n",
    "        y = np.expand_dims(y, axis=2)\n",
    "        u = np.expand_dims(u, axis=2)\n",
    "        v = np.expand_dims(v, axis=2)\n",
    "        img = np.concatenate((y,u,v), axis=2)\n",
    "        img = cv2.cvtColor(img, cv2.COLOR_YUV2BGR)\n",
    "        aug_str = '/'+strng[1]+'/'+strng[2]+'/'+strng[3]+'/'+strng[4]+'/'+strng[5]+'/'+strng[6]+'/'+strng[7]+'/'+strng2+'_aug'+str(i)+'.jpg'\n",
    "        cv2.imwrite(aug_str,img)\n",
    "        aug_str = '/'+strng[1]+'/'+strng[2]+'/'+strng[3]+'/'+strng[4]+'/'+strng[5]+'/'+strng[6]+'/'+'Annotations'+'/'+strng2+'_aug'+str(i)+'.xml'\n",
    "        _str = '/'+strng[1]+'/'+strng[2]+'/'+strng[3]+'/'+strng[4]+'/'+strng[5]+'/'+strng[6]+'/'+'Annotations'+'/'+strng2+'.xml'\n",
    "        shutil.copy(_str, aug_str)  "
   ]
  },
  {
   "cell_type": "code",
   "execution_count": 6,
   "metadata": {},
   "outputs": [],
   "source": [
    "for filename in glob.glob('/home/mcyavuz/.mxnet/datasets/voc/VOCNACDwNegswAug/JPEGImages/*.jpg'):\n",
    "    strng = filename.split('/')\n",
    "    strng2 = strng[-1:][0][:-4]\n",
    "    with open('/home/mcyavuz/.mxnet/datasets/voc/VOCNACDwNegswAug/ImageSets/Main/train.txt', 'a') as the_file:\n",
    "        the_file.write(strng2+'\\n')"
   ]
  },
  {
   "cell_type": "code",
   "execution_count": 7,
   "metadata": {},
   "outputs": [],
   "source": [
    "for filename in glob.glob('/home/mcyavuz/.mxnet/datasets/voc/VOCNACDwNegswAug/test/*.jpg'):\n",
    "    strng = filename.split('/')\n",
    "    strng2 = strng[-1:][0][:-4]\n",
    "    with open('/home/mcyavuz/.mxnet/datasets/voc/VOCNACDwNegswAug/ImageSets/Main/test.txt', 'a') as the_file:\n",
    "        the_file.write(strng2+'\\n')"
   ]
  },
  {
   "cell_type": "code",
   "execution_count": 8,
   "metadata": {},
   "outputs": [],
   "source": [
    "for filename in glob.glob('/home/mcyavuz/.mxnet/datasets/voc/VOCNACDwNegswAug/val/*.jpg'):\n",
    "    strng = filename.split('/')\n",
    "    strng2 = strng[-1:][0][:-4]\n",
    "    with open('/home/mcyavuz/.mxnet/datasets/voc/VOCNACDwNegswAug/ImageSets/Main/val.txt', 'a') as the_file:\n",
    "        the_file.write(strng2+'\\n')"
   ]
  },
  {
   "cell_type": "code",
   "execution_count": null,
   "metadata": {},
   "outputs": [],
   "source": []
  }
 ],
 "metadata": {
  "celltoolbar": "Slideshow",
  "kernelspec": {
   "display_name": "Python 2",
   "language": "python",
   "name": "python2"
  },
  "language_info": {
   "codemirror_mode": {
    "name": "ipython",
    "version": 2
   },
   "file_extension": ".py",
   "mimetype": "text/x-python",
   "name": "python",
   "nbconvert_exporter": "python",
   "pygments_lexer": "ipython2",
   "version": "2.7.15rc1"
  }
 },
 "nbformat": 4,
 "nbformat_minor": 2
}

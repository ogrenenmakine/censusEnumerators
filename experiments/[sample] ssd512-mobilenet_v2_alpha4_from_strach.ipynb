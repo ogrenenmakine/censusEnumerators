{
 "cells": [
  {
   "cell_type": "code",
   "execution_count": 1,
   "metadata": {},
   "outputs": [],
   "source": [
    "%matplotlib inline\n",
    "import mxnet as mx\n",
    "from mxnet import nd\n",
    "from mxnet.contrib.ndarray import MultiBoxPrior\n",
    "from mxnet.gluon.contrib import nn as nn_contrib\n",
    "\n",
    "ctx = mx.gpu()"
   ]
  },
  {
   "cell_type": "markdown",
   "metadata": {},
   "source": [
    "### Predict classes\n",
    "- channel `i*(num_class+1)` store the scores for this box contains only background\n",
    "- channel `i*(num_class+1)+1+j` store the scores for this box contains an object from the *j*-th class"
   ]
  },
  {
   "cell_type": "code",
   "execution_count": 2,
   "metadata": {},
   "outputs": [],
   "source": [
    "from mxnet.gluon import nn\n",
    "def class_predictor(num_anchors, num_classes):\n",
    "    return nn.Conv2D(num_anchors * (num_classes + 1), 3, padding=1)"
   ]
  },
  {
   "cell_type": "markdown",
   "metadata": {},
   "source": [
    "### Predict anchor boxes\n",
    "- $t_x = (Y_x - b_x) / b_{width}$\n",
    "- $t_y = (Y_y - b_y) / b_{height}$\n",
    "- $t_{width} = (Y_{width} - b_{width}) / b_{width}$\n",
    "- $t_{height} = (Y_{height} - b_{height}) / b_{height}$"
   ]
  },
  {
   "cell_type": "code",
   "execution_count": 3,
   "metadata": {},
   "outputs": [],
   "source": [
    "def box_predictor(num_anchors):\n",
    "    return nn.Conv2D(num_anchors * 4, 3, padding=1)"
   ]
  },
  {
   "cell_type": "markdown",
   "metadata": {},
   "source": [
    "### Manage preditions from multiple layers"
   ]
  },
  {
   "cell_type": "code",
   "execution_count": 4,
   "metadata": {},
   "outputs": [],
   "source": [
    "def flatten_prediction(pred):\n",
    "    return nd.flatten(nd.transpose(pred, axes=(0, 2, 3, 1)))\n",
    "\n",
    "def concat_predictions(preds):\n",
    "    return nd.concat(*preds, dim=1)"
   ]
  },
  {
   "cell_type": "markdown",
   "metadata": {},
   "source": [
    "### Body network"
   ]
  },
  {
   "cell_type": "code",
   "execution_count": 5,
   "metadata": {
    "scrolled": false
   },
   "outputs": [],
   "source": [
    "global alpha\n",
    "from mxnet import gluon\n",
    "alpha = 4\n",
    "def s16():\n",
    "    out = nn.HybridSequential()\n",
    "    with out.name_scope():\n",
    "        num_filter = 32/alpha\n",
    "        num_filter_second = 96/alpha\n",
    "        num_filter_third = 144/alpha\n",
    "        linear_filter_one = 16/alpha\n",
    "        linear_filter_second = 24/alpha\n",
    "        # conv2d\n",
    "        out.add(nn.Conv2D(num_filter, kernel_size=3, strides=2, padding=1, use_bias=False))\n",
    "        out.add(nn.BatchNorm(use_global_stats=False, epsilon=1e-05, momentum=0.9, axis=1))\n",
    "        out.add(nn.Activation('relu'))\n",
    "        # bottleneck_1_16_1\n",
    "        out.add(nn.Conv2D(num_filter, kernel_size=1, strides=1, padding=0, use_bias=False))\n",
    "        out.add(nn.BatchNorm(use_global_stats=False, epsilon=1e-05, momentum=0.9, axis=1))\n",
    "        out.add(nn.Activation('relu'))\n",
    "        # bottleneck_1_16_2\n",
    "        out.add(nn.Conv2D(num_filter, kernel_size=3, strides=1, padding=1, use_bias=False))\n",
    "        out.add(nn.BatchNorm(use_global_stats=False, epsilon=1e-05, momentum=0.9, axis=1))\n",
    "        out.add(nn.Activation('relu'))\n",
    "        # bottleneck_1_16_3\n",
    "        out.add(nn.Conv2D(linear_filter_one, kernel_size=1, strides=1, padding=0, use_bias=False))\n",
    "        out.add(nn.BatchNorm(use_global_stats=False, epsilon=1e-05, momentum=0.9, axis=1))\n",
    "        # bottleneck_1_24_1\n",
    "        out.add(nn.Conv2D(num_filter_second, kernel_size=1, strides=1, padding=0, use_bias=False))\n",
    "        out.add(nn.BatchNorm(use_global_stats=False, epsilon=1e-05, momentum=0.9, axis=1))\n",
    "        out.add(nn.Activation('relu'))\n",
    "        # bottleneck_1_24_2\n",
    "        out.add(nn.Conv2D(num_filter_second, kernel_size=3, strides=2, padding=1, use_bias=False))\n",
    "        out.add(nn.BatchNorm(use_global_stats=False, epsilon=1e-05, momentum=0.9, axis=1))\n",
    "        out.add(nn.Activation('relu'))\n",
    "        # bottleneck_1_24_3\n",
    "        out.add(nn.Conv2D(linear_filter_second, kernel_size=1, strides=1, padding=0, use_bias=False))\n",
    "        out.add(nn.BatchNorm(use_global_stats=False, epsilon=1e-05, momentum=0.9, axis=1))\n",
    "        # bottleneck_2_24_1\n",
    "        out.add(nn.Conv2D(num_filter_third, kernel_size=1, strides=1, padding=0, use_bias=False))\n",
    "        out.add(nn.BatchNorm(use_global_stats=False, epsilon=1e-05, momentum=0.9, axis=1))\n",
    "        out.add(nn.Activation('relu'))\n",
    "        # bottleneck_2_24_2\n",
    "        out.add(nn.Conv2D(num_filter_third, kernel_size=3, strides=1, padding=1, use_bias=False))\n",
    "        out.add(nn.BatchNorm(use_global_stats=False, epsilon=1e-05, momentum=0.9, axis=1))\n",
    "        out.add(nn.Activation('relu'))\n",
    "        # bottleneck_2_24_3\n",
    "        out.add(nn.Conv2D(linear_filter_second, kernel_size=1, strides=1, padding=0, use_bias=False))\n",
    "        out.add(nn.BatchNorm(use_global_stats=False, epsilon=1e-05, momentum=0.9, axis=1))\n",
    "        # bottleneck_1_32_1\n",
    "        out.add(nn.Conv2D(num_filter_third, kernel_size=1, strides=1, padding=0, use_bias=False))\n",
    "        out.add(nn.BatchNorm(use_global_stats=False, epsilon=1e-05, momentum=0.9, axis=1))\n",
    "        out.add(nn.Activation('relu'))\n",
    "        # bottleneck_1_32_2\n",
    "        out.add(nn.Conv2D(num_filter_third, kernel_size=3, strides=2, padding=1, use_bias=False))\n",
    "    out.hybridize()\n",
    "    #out.initialize(mx.init.Xavier(magnitude=2), ctx=ctx)\n",
    "    #out.load_params('weights/sqnet_c7.params', ctx=ctx)\n",
    "    return out        \n",
    "        \n",
    "def s32():\n",
    "    out = nn.HybridSequential()\n",
    "    with out.name_scope():\n",
    "        num_filter_prv = 144/alpha\n",
    "        num_filter = 192/alpha\n",
    "        linear_filter = 32/alpha\n",
    "        out.add(nn.BatchNorm(use_global_stats=False, epsilon=1e-05, momentum=0.9, axis=1))\n",
    "        out.add(nn.Activation('relu'))\n",
    "        # bottleneck_1_32_3\n",
    "        out.add(nn.Conv2D(linear_filter, kernel_size=1, strides=1, padding=0, use_bias=False))\n",
    "        out.add(nn.BatchNorm(use_global_stats=False, epsilon=1e-05, momentum=0.9, axis=1))\n",
    "        # bottleneck_2_32_1\n",
    "        out.add(nn.Conv2D(num_filter, kernel_size=1, strides=1, padding=0, use_bias=False))\n",
    "        out.add(nn.BatchNorm(use_global_stats=False, epsilon=1e-05, momentum=0.9, axis=1))\n",
    "        out.add(nn.Activation('relu'))\n",
    "        # bottleneck_2_32_2\n",
    "        out.add(nn.Conv2D(num_filter, kernel_size=3, strides=1, padding=1, use_bias=False))\n",
    "        out.add(nn.BatchNorm(use_global_stats=False, epsilon=1e-05, momentum=0.9, axis=1))\n",
    "        out.add(nn.Activation('relu'))\n",
    "        # bottleneck_2_32_3\n",
    "        out.add(nn.Conv2D(linear_filter, kernel_size=1, strides=1, padding=0, use_bias=False))\n",
    "        out.add(nn.BatchNorm(use_global_stats=False, epsilon=1e-05, momentum=0.9, axis=1))\n",
    "        # bottleneck_3_32_1\n",
    "        out.add(nn.Conv2D(num_filter, kernel_size=1, strides=1, padding=0, use_bias=False))\n",
    "        out.add(nn.BatchNorm(use_global_stats=False, epsilon=1e-05, momentum=0.9, axis=1))\n",
    "        out.add(nn.Activation('relu'))\n",
    "        # bottleneck_3_32_2\n",
    "        out.add(nn.Conv2D(num_filter, kernel_size=3, strides=1, padding=1, use_bias=False))\n",
    "        out.add(nn.BatchNorm(use_global_stats=False, epsilon=1e-05, momentum=0.9, axis=1))\n",
    "        out.add(nn.Activation('relu'))\n",
    "        # bottleneck_3_32_3\n",
    "        out.add(nn.Conv2D(linear_filter, kernel_size=1, strides=1, padding=0, use_bias=False))\n",
    "        out.add(nn.BatchNorm(use_global_stats=False, epsilon=1e-05, momentum=0.9, axis=1))\n",
    "        # bottleneck_1_64_1\n",
    "        out.add(nn.Conv2D(num_filter, kernel_size=1, strides=1, padding=0, use_bias=False))\n",
    "        out.add(nn.BatchNorm(use_global_stats=False, epsilon=1e-05, momentum=0.9, axis=1))\n",
    "        out.add(nn.Activation('relu'))\n",
    "        # bottleneck_1_64_2\n",
    "        out.add(nn.Conv2D(num_filter, kernel_size=3, strides=2, padding=1, use_bias=False))\n",
    "    out.hybridize()\n",
    "    #out.initialize(mx.init.Xavier(magnitude=2), ctx=ctx)\n",
    "    #out.load_params('weights/sqnet_c7.params', ctx=ctx)\n",
    "    return out\n",
    "\n",
    "def b1():\n",
    "    num_filter = 384/alpha\n",
    "    linear_filter = 64/alpha\n",
    "    out = nn.HybridSequential()\n",
    "    out.add(nn.BatchNorm(use_global_stats=False, epsilon=1e-05, momentum=0.9, axis=1))\n",
    "    out.add(nn.Activation('relu'))\n",
    "    # linear\n",
    "    out.add(nn.Conv2D(linear_filter, kernel_size=1, strides=1, padding=0, use_bias=False))\n",
    "    out.add(nn.BatchNorm(use_global_stats=False, epsilon=1e-05, momentum=0.9, axis=1))\n",
    "    # expand\n",
    "    out.add(nn.Conv2D(num_filter, kernel_size=1, strides=1, padding=0, use_bias=False))\n",
    "    out.add(nn.BatchNorm(use_global_stats=False, epsilon=1e-05, momentum=0.9, axis=1))\n",
    "    out.add(nn.Activation('relu'))\n",
    "    # dwise\n",
    "    out.add(nn.Conv2D(num_filter, kernel_size=3, strides=2, padding=1, use_bias=False))\n",
    "    return out\n",
    "\n",
    "def b2():\n",
    "    num_filter = 384/alpha\n",
    "    linear_filter = 64/alpha\n",
    "    out = nn.HybridSequential()\n",
    "    out.add(nn.BatchNorm(in_channels=num_filter, use_global_stats=True, epsilon=0.000100))\n",
    "    out.add(nn.Activation('relu'))\n",
    "    # linear\n",
    "    out.add(nn.Conv2D(linear_filter, kernel_size=1, strides=1, padding=0, use_bias=False))\n",
    "    out.add(nn.BatchNorm(use_global_stats=False, epsilon=1e-05, momentum=0.9, axis=1))\n",
    "    # expand\n",
    "    out.add(nn.Conv2D(num_filter, kernel_size=1, strides=1, padding=0, use_bias=False))\n",
    "    out.add(nn.BatchNorm(use_global_stats=False, epsilon=1e-05, momentum=0.9, axis=1))\n",
    "    out.add(nn.Activation('relu'))\n",
    "    # dwise\n",
    "    out.add(nn.Conv2D(num_filter, kernel_size=3, strides=2, padding=1, use_bias=False))\n",
    "    return out\n",
    "\n",
    "def b3():\n",
    "    num_filter = 384/alpha\n",
    "    linear_filter = 64/alpha\n",
    "    out = nn.HybridSequential()\n",
    "    out.add(nn.BatchNorm(use_global_stats=False, epsilon=1e-05, momentum=0.9, axis=1))\n",
    "    out.add(nn.Activation('relu'))\n",
    "    # linear\n",
    "    out.add(nn.Conv2D(linear_filter, kernel_size=1, strides=1, padding=0, use_bias=False))\n",
    "    out.add(nn.BatchNorm(use_global_stats=False, epsilon=1e-05, momentum=0.9, axis=1))\n",
    "    # expand\n",
    "    out.add(nn.Conv2D(num_filter, kernel_size=1, strides=1, padding=0, use_bias=False))\n",
    "    out.add(nn.BatchNorm(use_global_stats=False, epsilon=1e-05, momentum=0.9, axis=1))\n",
    "    out.add(nn.Activation('relu'))\n",
    "    # dwise\n",
    "    out.add(nn.Conv2D(num_filter, kernel_size=3, strides=2, padding=1, use_bias=False))\n",
    "    return out\n",
    "\n",
    "def b4():\n",
    "    num_filter = 394/alpha\n",
    "    linear_filter = 64/alpha\n",
    "    out = nn.HybridSequential()\n",
    "    out.add(nn.BatchNorm(use_global_stats=False, epsilon=1e-05, momentum=0.9, axis=1))\n",
    "    out.add(nn.Activation('relu'))\n",
    "    # linear\n",
    "    out.add(nn.Conv2D(linear_filter, kernel_size=1, strides=1, padding=0, use_bias=False))\n",
    "    out.add(nn.BatchNorm(use_global_stats=False, epsilon=1e-05, momentum=0.9, axis=1))\n",
    "    # expand\n",
    "    out.add(nn.Conv2D(num_filter, kernel_size=1, strides=1, padding=0, use_bias=False))\n",
    "    out.add(nn.BatchNorm(use_global_stats=False, epsilon=1e-05, momentum=0.9, axis=1))\n",
    "    out.add(nn.Activation('relu'))\n",
    "    # dwise\n",
    "    out.add(nn.Conv2D(num_filter, kernel_size=3, strides=2, padding=1, use_bias=False))\n",
    "    return out"
   ]
  },
  {
   "cell_type": "markdown",
   "metadata": {},
   "source": [
    "### Create an SSD model"
   ]
  },
  {
   "cell_type": "code",
   "execution_count": 6,
   "metadata": {},
   "outputs": [],
   "source": [
    "def ssd_model(num_anchors, num_classes):\n",
    "    class_preds = nn.Sequential()\n",
    "    box_preds = nn.Sequential()\n",
    "    \n",
    "    for scale in range(6):\n",
    "        class_preds.add(class_predictor(num_anchors, num_classes))\n",
    "        box_preds.add(box_predictor(num_anchors))\n",
    "    \n",
    "    return s16(), s32(), b1(), b2(), b3(), b4(), class_preds, box_preds"
   ]
  },
  {
   "cell_type": "markdown",
   "metadata": {},
   "source": [
    "### Forward"
   ]
  },
  {
   "cell_type": "code",
   "execution_count": 7,
   "metadata": {},
   "outputs": [],
   "source": [
    "def ssd_forward(x, s16, s32, b1, b2, b3, b4, class_preds, box_preds, sizes, ratios):\n",
    "    default_anchors = []\n",
    "    predicted_boxes = []  \n",
    "    predicted_classes = []\n",
    "\n",
    "    for i in range(31):\n",
    "        x = s16[i](x)\n",
    "        if i == 18:\n",
    "            conv2_2_linear_scale = x\n",
    "        elif i == 26:\n",
    "            x = mx.nd.broadcast_add(conv2_2_linear_scale, x)\n",
    "    default_anchors.append(MultiBoxPrior(x, sizes=sizes[0], ratios=ratios[0]))\n",
    "    predicted_boxes.append(flatten_prediction(box_preds[0](x)))\n",
    "    predicted_classes.append(flatten_prediction(class_preds[0](x)))\n",
    "    \n",
    "    for i in range(24):\n",
    "        x = s32[i](x)\n",
    "        if i == 3:\n",
    "            conv3_2_linear_scale = x\n",
    "        elif i == 11:\n",
    "            x = mx.nd.broadcast_add(conv3_2_linear_scale, x)\n",
    "            block_4_1 = x\n",
    "        elif i == 19:\n",
    "            x = mx.nd.broadcast_add(block_4_1, x)\n",
    "    default_anchors.append(MultiBoxPrior(x, sizes=sizes[1], ratios=ratios[1]))\n",
    "    predicted_boxes.append(flatten_prediction(box_preds[1](x)))\n",
    "    predicted_classes.append(flatten_prediction(class_preds[1](x)))\n",
    "    \n",
    "    x = b1(x)\n",
    "    default_anchors.append(MultiBoxPrior(x, sizes=sizes[2], ratios=ratios[2]))\n",
    "    predicted_boxes.append(flatten_prediction(box_preds[2](x)))\n",
    "    predicted_classes.append(flatten_prediction(class_preds[2](x)))\n",
    "    \n",
    "    x = b2(x)\n",
    "    default_anchors.append(MultiBoxPrior(x, sizes=sizes[3], ratios=ratios[3]))\n",
    "    predicted_boxes.append(flatten_prediction(box_preds[3](x)))\n",
    "    predicted_classes.append(flatten_prediction(class_preds[3](x)))\n",
    "    \n",
    "    x = b3(x)\n",
    "    default_anchors.append(MultiBoxPrior(x, sizes=sizes[4], ratios=ratios[4]))\n",
    "    predicted_boxes.append(flatten_prediction(box_preds[4](x)))\n",
    "    predicted_classes.append(flatten_prediction(class_preds[4](x)))\n",
    "    \n",
    "    x = b4(x)\n",
    "    default_anchors.append(MultiBoxPrior(x, sizes=sizes[5], ratios=ratios[5]))\n",
    "    predicted_boxes.append(flatten_prediction(box_preds[5](x)))\n",
    "    predicted_classes.append(flatten_prediction(class_preds[5](x)))\n",
    "\n",
    "    return default_anchors, predicted_classes, predicted_boxes"
   ]
  },
  {
   "cell_type": "markdown",
   "metadata": {},
   "source": [
    "### Put all things together"
   ]
  },
  {
   "cell_type": "code",
   "execution_count": 8,
   "metadata": {
    "scrolled": true
   },
   "outputs": [],
   "source": [
    "from mxnet import gluon\n",
    "class SSD(gluon.Block):\n",
    "    def __init__(self, num_classes, **kwargs):\n",
    "        super(SSD, self).__init__(**kwargs)\n",
    "        self.anchor_sizes = [[0.04, 0.1],[0.1,0.26],[0.26,0.42],[0.42,0.58],[0.58,0.74],[0.74,0.9],[0.9,1.06]]\n",
    "        self.anchor_ratios = [[1, 2, .5]] * 6\n",
    "        self.num_classes = num_classes\n",
    "\n",
    "        with self.name_scope():\n",
    "            self.s16, self.s32, self.b1, self.b2, self.b3, self.b4, self.class_preds, self.box_preds = ssd_model(4, num_classes)\n",
    "            \n",
    "    def forward(self, x):\n",
    "        default_anchors, predicted_classes, predicted_boxes = ssd_forward(x, self.s16, self.s32, self.b1, self.b2, self.b3, self.b4,\n",
    "            self.class_preds, self.box_preds, self.anchor_sizes, self.anchor_ratios)\n",
    "        anchors = concat_predictions(default_anchors)\n",
    "        box_preds = concat_predictions(predicted_boxes)\n",
    "        class_preds = concat_predictions(predicted_classes)\n",
    "        class_preds = nd.reshape(class_preds, shape=(0, -1, self.num_classes + 1))\n",
    "        \n",
    "        return anchors, class_preds, box_preds"
   ]
  },
  {
   "cell_type": "markdown",
   "metadata": {},
   "source": [
    "### Outputs of SSD"
   ]
  },
  {
   "cell_type": "code",
   "execution_count": 9,
   "metadata": {},
   "outputs": [
    {
     "name": "stdout",
     "output_type": "stream",
     "text": [
      "('Outputs:', 'anchors', (1L, 21840L, 4L), 'class prediction', (1L, 21840L, 3L), 'box prediction', (1L, 87360L))\n"
     ]
    }
   ],
   "source": [
    "net = SSD(2)\n",
    "net.initialize(mx.init.Xavier(magnitude=2), ctx=ctx)\n",
    "#net.load_parameters(\"process/ssd_100.params\",ctx=ctx)\n",
    "x = nd.zeros((1, 3, 512, 512),ctx=ctx)\n",
    "default_anchors, class_predictions, box_predictions = net(x)\n",
    "print('Outputs:', 'anchors', default_anchors.shape, 'class prediction', class_predictions.shape, 'box prediction', box_predictions.shape)"
   ]
  },
  {
   "cell_type": "markdown",
   "metadata": {},
   "source": [
    "### Load dataset"
   ]
  },
  {
   "cell_type": "code",
   "execution_count": 10,
   "metadata": {},
   "outputs": [
    {
     "name": "stdout",
     "output_type": "stream",
     "text": [
      "('Training images:', 10854)\n",
      "('Test images:', 1488)\n"
     ]
    }
   ],
   "source": [
    "from source.NACDDetection import NACDDetection\n",
    "\n",
    "train_dataset = NACDDetection(splits=[('NACDwNegswAugCropped', 'train')])\n",
    "test_dataset = NACDDetection(splits=[('NACDwNegswAugCropped', 'test')])\n",
    "\n",
    "print('Training images:', len(train_dataset))\n",
    "print('Test images:', len(test_dataset))"
   ]
  },
  {
   "cell_type": "code",
   "execution_count": 11,
   "metadata": {},
   "outputs": [],
   "source": [
    "from source import NACDTransform\n",
    "width, height = 512, 512\n",
    "train_transform = NACDTransform.NACDDefaultTransform(width, height, False)\n",
    "test_transform = NACDTransform.NACDDefaultTransform(width, height, True)"
   ]
  },
  {
   "cell_type": "code",
   "execution_count": 12,
   "metadata": {},
   "outputs": [],
   "source": [
    "from gluoncv.data.transforms import presets\n",
    "from gluoncv import utils\n",
    "from mxnet import nd\n",
    "from matplotlib import pyplot as plt\n",
    "from gluoncv.utils import viz"
   ]
  },
  {
   "cell_type": "code",
   "execution_count": 13,
   "metadata": {},
   "outputs": [
    {
     "name": "stdout",
     "output_type": "stream",
     "text": [
      "('image:', (650L, 650L, 3L))\n",
      "('bboxes:', (4, 4), 'class ids:', (4, 1))\n"
     ]
    }
   ],
   "source": [
    "train_image, train_label = test_dataset[0]\n",
    "bboxes = train_label[:, :4]\n",
    "cids = train_label[:, 4:5]\n",
    "print('image:', train_image.shape)\n",
    "print('bboxes:', bboxes.shape, 'class ids:', cids.shape)"
   ]
  },
  {
   "cell_type": "code",
   "execution_count": 14,
   "metadata": {},
   "outputs": [
    {
     "name": "stdout",
     "output_type": "stream",
     "text": [
      "('tensor shape:', (3L, 512L, 512L))\n"
     ]
    }
   ],
   "source": [
    "train_image2, train_label2 = train_transform(train_image, train_label)\n",
    "print('tensor shape:', train_image2.shape)"
   ]
  },
  {
   "cell_type": "code",
   "execution_count": 15,
   "metadata": {},
   "outputs": [
    {
     "name": "stdout",
     "output_type": "stream",
     "text": [
      "('data:', (16L, 3L, 512L, 512L), 'label:', (16L, 4L, 6L))\n",
      "('data:', (16L, 3L, 512L, 512L), 'label:', (16L, 8L, 6L))\n",
      "('data:', (16L, 3L, 512L, 512L), 'label:', (16L, 10L, 6L))\n",
      "('data:', (16L, 3L, 512L, 512L), 'label:', (16L, 6L, 6L))\n"
     ]
    }
   ],
   "source": [
    "from gluoncv.data.batchify import Tuple, Stack, Pad\n",
    "from mxnet.gluon.data import DataLoader\n",
    "\n",
    "batch_size = 16\n",
    "num_workers = 4\n",
    "\n",
    "batchify_fn = Tuple(Stack(), Pad(pad_val=-1))\n",
    "train_loader = DataLoader(train_dataset.transform(train_transform), batch_size, shuffle=True,\n",
    "                          batchify_fn=batchify_fn, last_batch='rollover', num_workers=num_workers)\n",
    "test_loader = DataLoader(test_dataset.transform(test_transform), batch_size, shuffle=False,\n",
    "                        batchify_fn=batchify_fn, last_batch='keep', num_workers=num_workers)\n",
    "\n",
    "for ib, batch in enumerate(test_loader):\n",
    "    if ib > 3:\n",
    "        break\n",
    "    print('data:', batch[0].shape, 'label:', batch[1].shape)"
   ]
  },
  {
   "cell_type": "code",
   "execution_count": 16,
   "metadata": {},
   "outputs": [
    {
     "data": {
      "image/png": "[encoded data removed]",
      "text/plain": [
       "<Figure size 432x288 with 1 Axes>"
      ]
     },
     "metadata": {},
     "output_type": "display_data"
    }
   ],
   "source": [
    "train_image2 = train_image2.transpose((1, 2, 0)) * nd.array((0.229, 0.224, 0.225)) + nd.array((0.485, 0.456, 0.406))\n",
    "train_image2 = (train_image2 * 255).clip(0, 255)\n",
    "ax = viz.plot_bbox(train_image2.asnumpy(), train_label2[:, :4],\n",
    "                   labels=train_label2[:, 4:5],\n",
    "                   class_names=train_dataset.classes)\n",
    "plt.show()"
   ]
  },
  {
   "cell_type": "markdown",
   "metadata": {},
   "source": [
    "## Train"
   ]
  },
  {
   "cell_type": "code",
   "execution_count": 17,
   "metadata": {},
   "outputs": [],
   "source": [
    "from mxnet.contrib.ndarray import MultiBoxTarget\n",
    "def training_targets(default_anchors, class_predicts, labels):\n",
    "    class_predicts = nd.transpose(class_predicts, axes=(0, 2, 1))\n",
    "    z = MultiBoxTarget(anchor=default_anchors.as_in_context(mx.cpu()), label=labels.as_in_context(mx.cpu()), cls_pred=class_predicts.as_in_context(mx.cpu()))\n",
    "    box_target = z[0].as_in_context(ctx)  # box offset target for (x, y, width, height)\n",
    "    box_mask = z[1].as_in_context(ctx)  # mask is used to ignore box offsets we don't want to penalize, e.g. negative samples\n",
    "    cls_target = z[2].as_in_context(ctx)  # cls_target is an array of labels for all anchors boxes\n",
    "    return box_target, box_mask, cls_target"
   ]
  },
  {
   "cell_type": "code",
   "execution_count": 18,
   "metadata": {},
   "outputs": [],
   "source": [
    "def convertlbl(y):\n",
    "    mtrx = y[:,:,0:4]\n",
    "    mtrx = mtrx.asnumpy()\n",
    "    mtrx[mtrx == -1] = -width\n",
    "    mtrx = mtrx/512\n",
    "    return mx.nd.concat(nd.expand_dims(y[:,:,4],2),mx.nd.array(mtrx),dim=2)"
   ]
  },
  {
   "cell_type": "code",
   "execution_count": 19,
   "metadata": {},
   "outputs": [
    {
     "name": "stdout",
     "output_type": "stream",
     "text": [
      "FocalLoss(batch_axis=0, w=None)\n"
     ]
    }
   ],
   "source": [
    "class FocalLoss(gluon.loss.Loss):\n",
    "    def __init__(self, axis=-1, alpha=0.25, gamma=2, batch_axis=0, **kwargs):\n",
    "        super(FocalLoss, self).__init__(None, batch_axis, **kwargs)\n",
    "        self._axis = axis\n",
    "        self._alpha = alpha\n",
    "        self._gamma = gamma\n",
    "    \n",
    "    def hybrid_forward(self, F, output, label):\n",
    "        output = F.softmax(output)\n",
    "        pt = F.pick(output, label, axis=self._axis, keepdims=True)\n",
    "        loss = -self._alpha * ((1 - pt) ** self._gamma) * F.log(pt)\n",
    "        return F.mean(loss, axis=self._batch_axis, exclude=True)\n",
    "\n",
    "# cls_loss = gluon.loss.SoftmaxCrossEntropyLoss()\n",
    "cls_loss = FocalLoss()\n",
    "print(cls_loss)"
   ]
  },
  {
   "cell_type": "code",
   "execution_count": 20,
   "metadata": {},
   "outputs": [
    {
     "name": "stdout",
     "output_type": "stream",
     "text": [
      "SmoothL1Loss(batch_axis=0, w=None)\n"
     ]
    }
   ],
   "source": [
    "class SmoothL1Loss(gluon.loss.Loss):\n",
    "    def __init__(self, batch_axis=0, **kwargs):\n",
    "        super(SmoothL1Loss, self).__init__(None, batch_axis, **kwargs)\n",
    "    \n",
    "    def hybrid_forward(self, F, output, label, mask):\n",
    "        loss = F.smooth_l1((output - label) * mask, scalar=1.0)\n",
    "        return F.mean(loss, self._batch_axis, exclude=True)\n",
    "\n",
    "box_loss = SmoothL1Loss()\n",
    "print(box_loss)"
   ]
  },
  {
   "cell_type": "markdown",
   "metadata": {},
   "source": [
    "### Initialize parameters"
   ]
  },
  {
   "cell_type": "code",
   "execution_count": 21,
   "metadata": {},
   "outputs": [],
   "source": [
    "import time\n",
    "from mxnet import autograd as ag\n",
    "from gluoncv.loss import SSDMultiBoxLoss"
   ]
  },
  {
   "cell_type": "code",
   "execution_count": 22,
   "metadata": {},
   "outputs": [
    {
     "name": "stdout",
     "output_type": "stream",
     "text": [
      "epoch:  1;\t train:5.324181e-03;0.991906;2.067352e-03;\t test:2.591224e-03;0.996757;1.922508e-03\n",
      "epoch:  2;\t train:3.236362e-03;0.997087;2.007160e-03;\t test:2.412112e-03;0.997530;1.891264e-03\n",
      "epoch:  3;\t train:3.000495e-03;0.997656;1.971673e-03;\t test:2.322362e-03;0.997785;1.886420e-03\n",
      "epoch:  4;\t train:2.786469e-03;0.997770;1.952045e-03;\t test:2.230651e-03;0.997815;1.877235e-03\n",
      "epoch:  5;\t train:2.655004e-03;0.997794;1.931696e-03;\t test:2.184055e-03;0.997845;1.849026e-03\n",
      "epoch:  6;\t train:2.569443e-03;0.997810;1.934809e-03;\t test:2.119953e-03;0.997906;1.851332e-03\n",
      "epoch:  7;\t train:2.505768e-03;0.997863;1.917984e-03;\t test:2.119484e-03;0.997950;1.861915e-03\n",
      "epoch:  8;\t train:2.469420e-03;0.997900;1.922750e-03;\t test:2.070966e-03;0.997943;1.863940e-03\n",
      "epoch:  9;\t train:2.424883e-03;0.997937;1.902760e-03;\t test:2.031557e-03;0.997966;1.846208e-03\n",
      "epoch: 10;\t train:2.394634e-03;0.997945;1.903899e-03;\t test:2.020531e-03;0.998020;1.834323e-03\n",
      "epoch: 11;\t train:2.346042e-03;0.997977;1.900567e-03;\t test:2.007808e-03;0.998064;1.839828e-03\n",
      "epoch: 12;\t train:2.337812e-03;0.998008;1.902021e-03;\t test:1.979182e-03;0.998049;1.842102e-03\n",
      "epoch: 13;\t train:2.291204e-03;0.998030;1.885194e-03;\t test:1.915272e-03;0.998104;1.790596e-03\n",
      "epoch: 14;\t train:2.275164e-03;0.998035;1.887621e-03;\t test:1.943161e-03;0.998075;1.847862e-03\n",
      "epoch: 15;\t train:2.249801e-03;0.998041;1.892542e-03;\t test:1.887697e-03;0.998115;1.807410e-03\n",
      "epoch: 16;\t train:2.229546e-03;0.998049;1.886343e-03;\t test:1.871661e-03;0.998105;1.813873e-03\n",
      "epoch: 17;\t train:2.215078e-03;0.998065;1.878982e-03;\t test:1.854556e-03;0.998123;1.797837e-03\n",
      "epoch: 18;\t train:2.190800e-03;0.998059;1.881293e-03;\t test:1.855243e-03;0.998115;1.800777e-03\n",
      "epoch: 19;\t train:2.159333e-03;0.998087;1.857693e-03;\t test:1.826446e-03;0.998136;1.799236e-03\n",
      "epoch: 20;\t train:2.154922e-03;0.998092;1.866397e-03;\t test:1.815598e-03;0.998149;1.796978e-03\n",
      "epoch: 21;\t train:2.139192e-03;0.998100;1.866254e-03;\t test:1.811762e-03;0.998136;1.806199e-03\n",
      "epoch: 22;\t train:2.132090e-03;0.998106;1.867060e-03;\t test:1.794276e-03;0.998150;1.796197e-03\n",
      "epoch: 23;\t train:2.100418e-03;0.998123;1.852037e-03;\t test:1.760752e-03;0.998201;1.761360e-03\n",
      "epoch: 24;\t train:2.102695e-03;0.998135;1.851490e-03;\t test:1.762128e-03;0.998201;1.765591e-03\n",
      "epoch: 25;\t train:2.093502e-03;0.998142;1.856014e-03;\t test:1.771309e-03;0.998178;1.786532e-03\n",
      "epoch: 26;\t train:2.082418e-03;0.998147;1.855462e-03;\t test:1.744957e-03;0.998208;1.766975e-03\n",
      "epoch: 27;\t train:2.082798e-03;0.998133;1.861970e-03;\t test:1.749010e-03;0.998185;1.777690e-03\n",
      "epoch: 28;\t train:2.061307e-03;0.998147;1.847923e-03;\t test:1.711428e-03;0.998196;1.755374e-03\n",
      "epoch: 29;\t train:2.048499e-03;0.998143;1.843156e-03;\t test:1.693074e-03;0.998222;1.732035e-03\n",
      "epoch: 30;\t train:2.054230e-03;0.998140;1.849458e-03;\t test:1.728294e-03;0.998192;1.769428e-03\n",
      "epoch: 31;\t train:2.055726e-03;0.998129;1.857067e-03;\t test:1.711705e-03;0.998200;1.753033e-03\n",
      "epoch: 32;\t train:2.014034e-03;0.998160;1.823837e-03;\t test:1.725220e-03;0.998185;1.770833e-03\n",
      "epoch: 33;\t train:2.024176e-03;0.998146;1.838116e-03;\t test:1.731534e-03;0.998163;1.792144e-03\n",
      "epoch: 34;\t train:2.011143e-03;0.998147;1.835776e-03;\t test:1.696076e-03;0.998196;1.752819e-03\n",
      "epoch: 35;\t train:2.024428e-03;0.998137;1.842324e-03;\t test:1.682223e-03;0.998205;1.742777e-03\n",
      "epoch: 36;\t train:2.007697e-03;0.998142;1.838334e-03;\t test:1.656005e-03;0.998212;1.724740e-03\n",
      "epoch: 37;\t train:1.987386e-03;0.998140;1.829170e-03;\t test:1.721354e-03;0.998163;1.782610e-03\n",
      "epoch: 38;\t train:1.990374e-03;0.998136;1.836964e-03;\t test:1.688453e-03;0.998183;1.757661e-03\n",
      "epoch: 39;\t train:1.987190e-03;0.998142;1.829504e-03;\t test:1.677169e-03;0.998177;1.753322e-03\n",
      "epoch: 40;\t train:1.989898e-03;0.998141;1.834003e-03;\t test:1.686463e-03;0.998163;1.776321e-03\n",
      "epoch: 41;\t train:1.973682e-03;0.998144;1.830208e-03;\t test:1.655937e-03;0.998213;1.736877e-03\n",
      "epoch: 42;\t train:1.971684e-03;0.998147;1.825071e-03;\t test:1.658951e-03;0.998202;1.737041e-03\n",
      "epoch: 43;\t train:1.969876e-03;0.998141;1.832026e-03;\t test:1.661980e-03;0.998196;1.743226e-03\n",
      "epoch: 44;\t train:1.955181e-03;0.998147;1.823228e-03;\t test:1.642081e-03;0.998208;1.726266e-03\n",
      "epoch: 45;\t train:1.946846e-03;0.998149;1.816036e-03;\t test:1.651606e-03;0.998200;1.738099e-03\n",
      "epoch: 46;\t train:1.966247e-03;0.998135;1.832383e-03;\t test:1.634553e-03;0.998213;1.717495e-03\n",
      "epoch: 47;\t train:1.956855e-03;0.998144;1.825309e-03;\t test:1.639128e-03;0.998212;1.727647e-03\n",
      "epoch: 48;\t train:1.934911e-03;0.998150;1.813846e-03;\t test:1.642369e-03;0.998200;1.738481e-03\n",
      "epoch: 49;\t train:1.944504e-03;0.998147;1.821698e-03;\t test:1.638506e-03;0.998185;1.741939e-03\n",
      "epoch: 50;\t train:1.938774e-03;0.998146;1.821498e-03;\t test:1.617424e-03;0.998225;1.709107e-03\n",
      "epoch: 51;\t train:1.928045e-03;0.998149;1.812836e-03;\t test:1.642162e-03;0.998203;1.734017e-03\n",
      "epoch: 52;\t train:1.916749e-03;0.998163;1.800111e-03;\t test:1.629609e-03;0.998201;1.736716e-03\n",
      "epoch: 53;\t train:1.921403e-03;0.998148;1.813689e-03;\t test:1.601616e-03;0.998221;1.704130e-03\n",
      "epoch: 54;\t train:1.923771e-03;0.998152;1.810016e-03;\t test:1.627268e-03;0.998196;1.738001e-03\n",
      "epoch: 55;\t train:1.925047e-03;0.998140;1.821337e-03;\t test:1.661657e-03;0.998173;1.762080e-03\n",
      "epoch: 56;\t train:1.930825e-03;0.998140;1.821930e-03;\t test:1.587649e-03;0.998230;1.693553e-03\n",
      "epoch: 57;\t train:1.911710e-03;0.998144;1.810003e-03;\t test:1.625001e-03;0.998212;1.726651e-03\n",
      "epoch: 58;\t train:1.910460e-03;0.998151;1.810501e-03;\t test:1.606541e-03;0.998231;1.708729e-03\n",
      "epoch: 59;\t train:1.913915e-03;0.998156;1.807819e-03;\t test:1.616999e-03;0.998198;1.725114e-03\n",
      "epoch: 60;\t train:1.907166e-03;0.998150;1.813051e-03;\t test:1.630456e-03;0.998196;1.734754e-03\n",
      "epoch: 61;\t train:1.910745e-03;0.998148;1.814578e-03;\t test:1.605282e-03;0.998229;1.705072e-03\n",
      "epoch: 62;\t train:1.908550e-03;0.998151;1.811338e-03;\t test:1.590602e-03;0.998221;1.704348e-03\n",
      "epoch: 63;\t train:1.896844e-03;0.998150;1.805112e-03;\t test:1.613598e-03;0.998200;1.726736e-03\n",
      "epoch: 64;\t train:1.906964e-03;0.998151;1.808362e-03;\t test:1.615268e-03;0.998211;1.728119e-03\n",
      "epoch: 65;\t train:1.900945e-03;0.998147;1.811117e-03;\t test:1.624738e-03;0.998181;1.737754e-03\n",
      "epoch: 66;\t train:1.904332e-03;0.998143;1.816527e-03;\t test:1.579068e-03;0.998217;1.702409e-03\n",
      "epoch: 67;\t train:1.898367e-03;0.998151;1.805787e-03;\t test:1.635198e-03;0.998178;1.756203e-03\n",
      "epoch: 68;\t train:1.897383e-03;0.998144;1.811670e-03;\t test:1.600947e-03;0.998218;1.711861e-03\n",
      "epoch: 69;\t train:1.889290e-03;0.998155;1.800843e-03;\t test:1.587200e-03;0.998213;1.705349e-03\n",
      "epoch: 70;\t train:1.889322e-03;0.998156;1.801452e-03;\t test:1.606825e-03;0.998208;1.718229e-03\n",
      "epoch: 71;\t train:1.890344e-03;0.998146;1.808443e-03;\t test:1.565349e-03;0.998242;1.679728e-03\n",
      "epoch: 72;\t train:1.879856e-03;0.998160;1.792864e-03;\t test:1.593794e-03;0.998217;1.708214e-03\n",
      "epoch: 73;\t train:1.881296e-03;0.998151;1.801546e-03;\t test:1.617259e-03;0.998195;1.735837e-03\n",
      "epoch: 74;\t train:1.892817e-03;0.998145;1.814608e-03;\t test:1.564259e-03;0.998237;1.677583e-03\n",
      "epoch: 75;\t train:1.878871e-03;0.998162;1.796088e-03;\t test:1.596053e-03;0.998211;1.710394e-03\n",
      "epoch: 76;\t train:1.889418e-03;0.998149;1.805770e-03;\t test:1.613183e-03;0.998185;1.732659e-03\n",
      "epoch: 77;\t train:1.869918e-03;0.998164;1.792580e-03;\t test:1.598337e-03;0.998206;1.717657e-03\n",
      "epoch: 78;\t train:1.881206e-03;0.998156;1.798713e-03;\t test:1.585029e-03;0.998207;1.712519e-03\n",
      "epoch: 79;\t train:1.877398e-03;0.998157;1.799010e-03;\t test:1.586086e-03;0.998226;1.697913e-03\n",
      "epoch: 80;\t train:1.877302e-03;0.998153;1.798243e-03;\t test:1.630547e-03;0.998183;1.751283e-03\n",
      "epoch: 81;\t train:1.880471e-03;0.998152;1.806734e-03;\t test:1.606656e-03;0.998199;1.729237e-03\n",
      "epoch: 82;\t train:1.876518e-03;0.998151;1.804360e-03;\t test:1.575778e-03;0.998243;1.687840e-03\n",
      "epoch: 83;\t train:1.872820e-03;0.998154;1.798829e-03;\t test:1.589881e-03;0.998217;1.710436e-03\n",
      "epoch: 84;\t train:1.868143e-03;0.998155;1.797846e-03;\t test:1.605471e-03;0.998187;1.728639e-03\n",
      "epoch: 85;\t train:1.875215e-03;0.998155;1.802672e-03;\t test:1.557663e-03;0.998240;1.680524e-03\n",
      "epoch: 86;\t train:1.874727e-03;0.998149;1.798668e-03;\t test:1.564305e-03;0.998240;1.687784e-03\n",
      "epoch: 87;\t train:1.871672e-03;0.998151;1.803415e-03;\t test:1.595781e-03;0.998203;1.723753e-03\n"
     ]
    },
    {
     "name": "stdout",
     "output_type": "stream",
     "text": [
      "epoch: 88;\t train:1.870423e-03;0.998158;1.793798e-03;\t test:1.564761e-03;0.998228;1.691599e-03\n"
     ]
    },
    {
     "name": "stderr",
     "output_type": "stream",
     "text": [
      "Process Process-710:\n",
      "Process Process-712:\n",
      "Process Process-709:\n",
      "Traceback (most recent call last):\n",
      "  File \"/usr/lib/python2.7/multiprocessing/process.py\", line 267, in _bootstrap\n",
      "Traceback (most recent call last):\n",
      "  File \"/usr/lib/python2.7/multiprocessing/process.py\", line 267, in _bootstrap\n",
      "    self.run()\n",
      "    self.run()\n",
      "  File \"/usr/lib/python2.7/multiprocessing/process.py\", line 114, in run\n",
      "    self._target(*self._args, **self._kwargs)\n",
      "  File \"/usr/local/lib/python2.7/dist-packages/mxnet/gluon/data/dataloader.py\", line 116, in worker_loop\n",
      "    idx, samples = key_queue.get()\n",
      "  File \"/usr/lib/python2.7/multiprocessing/process.py\", line 114, in run\n",
      "  File \"/usr/lib/python2.7/multiprocessing/queues.py\", line 115, in get\n",
      "    self._target(*self._args, **self._kwargs)\n",
      "    self._rlock.acquire()\n",
      "  File \"/usr/local/lib/python2.7/dist-packages/mxnet/gluon/data/dataloader.py\", line 116, in worker_loop\n",
      "KeyboardInterrupt\n",
      "    idx, samples = key_queue.get()\n",
      "  File \"/usr/lib/python2.7/multiprocessing/queues.py\", line 115, in get\n",
      "Traceback (most recent call last):\n",
      "  File \"/usr/lib/python2.7/multiprocessing/process.py\", line 267, in _bootstrap\n",
      "    self.run()\n",
      "  File \"/usr/lib/python2.7/multiprocessing/process.py\", line 114, in run\n",
      "    self._target(*self._args, **self._kwargs)\n",
      "  File \"/usr/local/lib/python2.7/dist-packages/mxnet/gluon/data/dataloader.py\", line 116, in worker_loop\n",
      "    idx, samples = key_queue.get()\n",
      "    self._rlock.acquire()\n",
      "KeyboardInterrupt\n",
      "  File \"/usr/lib/python2.7/multiprocessing/queues.py\", line 117, in get\n",
      "    res = self._recv()\n",
      "  File \"/usr/local/lib/python2.7/dist-packages/mxnet/gluon/data/dataloader.py\", line 63, in recv\n",
      "    buf = self.recv_bytes()\n",
      "KeyboardInterrupt\n",
      "Process Process-711:\n",
      "Traceback (most recent call last):\n",
      "  File \"/usr/lib/python2.7/multiprocessing/process.py\", line 267, in _bootstrap\n",
      "    self.run()\n",
      "  File \"/usr/lib/python2.7/multiprocessing/process.py\", line 114, in run\n",
      "    self._target(*self._args, **self._kwargs)\n",
      "  File \"/usr/local/lib/python2.7/dist-packages/mxnet/gluon/data/dataloader.py\", line 119, in worker_loop\n",
      "    batch = batchify_fn([dataset[i] for i in samples])\n",
      "  File \"/usr/local/lib/python2.7/dist-packages/gluoncv/data/batchify.py\", line 351, in __call__\n",
      "    ret.append(ele_fn([ele[i] for ele in data]))\n",
      "  File \"/usr/local/lib/python2.7/dist-packages/gluoncv/data/batchify.py\", line 223, in __call__\n",
      "    self._pad_val, True)\n",
      "  File \"/usr/local/lib/python2.7/dist-packages/gluoncv/data/batchify.py\", line 45, in _pad_arrs_to_max_length\n",
      "    ret[tuple(slices)] = arr\n",
      "  File \"/usr/local/lib/python2.7/dist-packages/mxnet/ndarray/ndarray.py\", line 444, in __setitem__\n",
      "    self._set_nd_basic_indexing(key, value)\n",
      "  File \"/usr/local/lib/python2.7/dist-packages/mxnet/ndarray/ndarray.py\", line 755, in _set_nd_basic_indexing\n",
      "    value_nd = self._prepare_value_nd(value, vshape)\n",
      "  File \"/usr/local/lib/python2.7/dist-packages/mxnet/ndarray/ndarray.py\", line 674, in _prepare_value_nd\n",
      "    ' object %s of type %s' % (str(value), str(type(value))))\n",
      "TypeError: NDArray does not support assignment with non-array-like object [[  0.      118.15385 220.19206 512.        1.        0.     ]\n",
      " [206.29645 118.15385 439.31525 505.6133    1.        0.     ]] of type <type 'numpy.ndarray'>\n"
     ]
    },
    {
     "ename": "KeyboardInterrupt",
     "evalue": "",
     "output_type": "error",
     "traceback": [
      "\u001b[0;31m---------------------------------------------------------------------------\u001b[0m",
      "\u001b[0;31mKeyboardInterrupt\u001b[0m                         Traceback (most recent call last)",
      "\u001b[0;32m<ipython-input-22-41d197b1f634>\u001b[0m in \u001b[0;36m<module>\u001b[0;34m()\u001b[0m\n\u001b[1;32m     35\u001b[0m             \u001b[0;31m# sum all losses\u001b[0m\u001b[0;34m\u001b[0m\u001b[0;34m\u001b[0m\u001b[0m\n\u001b[1;32m     36\u001b[0m             \u001b[0mloss\u001b[0m \u001b[0;34m=\u001b[0m \u001b[0mloss1\u001b[0m \u001b[0;34m+\u001b[0m \u001b[0mloss2\u001b[0m\u001b[0;34m\u001b[0m\u001b[0m\n\u001b[0;32m---> 37\u001b[0;31m             \u001b[0mtrain_loss\u001b[0m \u001b[0;34m+=\u001b[0m \u001b[0mnd\u001b[0m\u001b[0;34m.\u001b[0m\u001b[0msum\u001b[0m\u001b[0;34m(\u001b[0m\u001b[0mloss\u001b[0m\u001b[0;34m)\u001b[0m\u001b[0;34m.\u001b[0m\u001b[0masscalar\u001b[0m\u001b[0;34m(\u001b[0m\u001b[0;34m)\u001b[0m\u001b[0;34m\u001b[0m\u001b[0m\n\u001b[0m\u001b[1;32m     38\u001b[0m             \u001b[0;31m# backpropagate\u001b[0m\u001b[0;34m\u001b[0m\u001b[0;34m\u001b[0m\u001b[0m\n\u001b[1;32m     39\u001b[0m             \u001b[0mloss\u001b[0m\u001b[0;34m.\u001b[0m\u001b[0mbackward\u001b[0m\u001b[0;34m(\u001b[0m\u001b[0;34m)\u001b[0m\u001b[0;34m\u001b[0m\u001b[0m\n",
      "\u001b[0;32m/usr/local/lib/python2.7/dist-packages/mxnet/ndarray/ndarray.pyc\u001b[0m in \u001b[0;36masscalar\u001b[0;34m(self)\u001b[0m\n\u001b[1;32m   1892\u001b[0m         \u001b[0;32mif\u001b[0m \u001b[0mself\u001b[0m\u001b[0;34m.\u001b[0m\u001b[0mshape\u001b[0m \u001b[0;34m!=\u001b[0m \u001b[0;34m(\u001b[0m\u001b[0;36m1\u001b[0m\u001b[0;34m,\u001b[0m\u001b[0;34m)\u001b[0m\u001b[0;34m:\u001b[0m\u001b[0;34m\u001b[0m\u001b[0m\n\u001b[1;32m   1893\u001b[0m             \u001b[0;32mraise\u001b[0m \u001b[0mValueError\u001b[0m\u001b[0;34m(\u001b[0m\u001b[0;34m\"The current array is not a scalar\"\u001b[0m\u001b[0;34m)\u001b[0m\u001b[0;34m\u001b[0m\u001b[0m\n\u001b[0;32m-> 1894\u001b[0;31m         \u001b[0;32mreturn\u001b[0m \u001b[0mself\u001b[0m\u001b[0;34m.\u001b[0m\u001b[0masnumpy\u001b[0m\u001b[0;34m(\u001b[0m\u001b[0;34m)\u001b[0m\u001b[0;34m[\u001b[0m\u001b[0;36m0\u001b[0m\u001b[0;34m]\u001b[0m\u001b[0;34m\u001b[0m\u001b[0m\n\u001b[0m\u001b[1;32m   1895\u001b[0m \u001b[0;34m\u001b[0m\u001b[0m\n\u001b[1;32m   1896\u001b[0m     \u001b[0;32mdef\u001b[0m \u001b[0mastype\u001b[0m\u001b[0;34m(\u001b[0m\u001b[0mself\u001b[0m\u001b[0;34m,\u001b[0m \u001b[0mdtype\u001b[0m\u001b[0;34m,\u001b[0m \u001b[0mcopy\u001b[0m\u001b[0;34m=\u001b[0m\u001b[0mTrue\u001b[0m\u001b[0;34m)\u001b[0m\u001b[0;34m:\u001b[0m\u001b[0;34m\u001b[0m\u001b[0m\n",
      "\u001b[0;32m/usr/local/lib/python2.7/dist-packages/mxnet/ndarray/ndarray.pyc\u001b[0m in \u001b[0;36masnumpy\u001b[0;34m(self)\u001b[0m\n\u001b[1;32m   1874\u001b[0m             \u001b[0mself\u001b[0m\u001b[0;34m.\u001b[0m\u001b[0mhandle\u001b[0m\u001b[0;34m,\u001b[0m\u001b[0;34m\u001b[0m\u001b[0m\n\u001b[1;32m   1875\u001b[0m             \u001b[0mdata\u001b[0m\u001b[0;34m.\u001b[0m\u001b[0mctypes\u001b[0m\u001b[0;34m.\u001b[0m\u001b[0mdata_as\u001b[0m\u001b[0;34m(\u001b[0m\u001b[0mctypes\u001b[0m\u001b[0;34m.\u001b[0m\u001b[0mc_void_p\u001b[0m\u001b[0;34m)\u001b[0m\u001b[0;34m,\u001b[0m\u001b[0;34m\u001b[0m\u001b[0m\n\u001b[0;32m-> 1876\u001b[0;31m             ctypes.c_size_t(data.size)))\n\u001b[0m\u001b[1;32m   1877\u001b[0m         \u001b[0;32mreturn\u001b[0m \u001b[0mdata\u001b[0m\u001b[0;34m\u001b[0m\u001b[0m\n\u001b[1;32m   1878\u001b[0m \u001b[0;34m\u001b[0m\u001b[0m\n",
      "\u001b[0;31mKeyboardInterrupt\u001b[0m: "
     ]
    }
   ],
   "source": [
    "# loop params\n",
    "epochs = 200\n",
    "start_epoch = 1\n",
    "\n",
    "# initialize trainer\n",
    "net.collect_params().reset_ctx(ctx)\n",
    "trainer = gluon.Trainer(net.collect_params(), 'sgd', {'learning_rate': 1e-1, 'wd': 4e-5})\n",
    "\n",
    "# evaluation metrics\n",
    "cls_metric = mx.metric.Accuracy()\n",
    "box_metric = mx.metric.MAE()\n",
    "cls_metric_test = mx.metric.Accuracy()\n",
    "box_metric_test = mx.metric.MAE()\n",
    "\n",
    "# training loop\n",
    "for epoch in range(start_epoch, epochs):\n",
    "    # reset iterator and tick\n",
    "    #train_data.reset()\n",
    "    cls_metric.reset()\n",
    "    box_metric.reset()\n",
    "    tic = time.time()\n",
    "    train_loss = 0\n",
    "    # iterate through all batch\n",
    "    for i, batch in enumerate(train_loader):\n",
    "        # record gradients\n",
    "        with ag.record():\n",
    "            x = batch[0].as_in_context(ctx)\n",
    "            y = batch[1].as_in_context(ctx)\n",
    "            lbl = convertlbl(batch[1])\n",
    "            default_anchors, class_predictions, box_predictions = net(x)\n",
    "            box_target, box_mask, cls_target = training_targets(default_anchors, class_predictions, lbl)\n",
    "            # losses\n",
    "            loss1 = cls_loss(class_predictions, cls_target)\n",
    "            loss2 = box_loss(box_predictions, box_target, box_mask)\n",
    "            # sum all losses\n",
    "            loss = loss1 + loss2\n",
    "            train_loss += nd.sum(loss).asscalar()\n",
    "            # backpropagate\n",
    "            loss.backward()\n",
    "        # apply \n",
    "        trainer.step(batch_size)\n",
    "        # update metrics\n",
    "        cls_metric.update([cls_target], [nd.transpose(class_predictions, (0, 2, 1))])\n",
    "        box_metric.update([box_target], [box_predictions * box_mask])\n",
    "        #if (i + 1) % log_interval == 0:\n",
    "    toc = time.time()\n",
    "    name1_train, val1_train = cls_metric.get()\n",
    "    name2_train, val2_train = box_metric.get()\n",
    "\n",
    "    cls_metric_test.reset()\n",
    "    box_metric_test.reset()\n",
    "    tic = time.time()\n",
    "    test_loss = 0\n",
    "    for i, batch in enumerate(test_loader):\n",
    "        # record gradients\n",
    "        x = batch[0].as_in_context(ctx)\n",
    "        y = batch[1].as_in_context(ctx)\n",
    "        lbl = convertlbl(batch[1])\n",
    "        default_anchors, class_predictions, box_predictions = net(x)\n",
    "        box_target, box_mask, cls_target = training_targets(default_anchors, class_predictions, lbl)\n",
    "        # losses\n",
    "        loss1 = cls_loss(class_predictions, cls_target)\n",
    "        loss2 = box_loss(box_predictions, box_target, box_mask)\n",
    "        # sum all losses\n",
    "        loss = loss1 + loss2\n",
    "        test_loss += nd.sum(loss).asscalar()\n",
    "        # update metrics\n",
    "        cls_metric_test.update([cls_target], [nd.transpose(class_predictions, (0, 2, 1))])\n",
    "        box_metric_test.update([box_target], [box_predictions * box_mask])\n",
    "        #if (i + 1) % log_interval == 0:\n",
    "    toc = time.time()\n",
    "    name1_test, val1_test = cls_metric_test.get()\n",
    "    name2_test, val2_test = box_metric_test.get()\n",
    "    print('epoch:%3d;\\t train:%.6e;%f;%.6e;\\t test:%.6e;%f;%.6e'\n",
    "          %(epoch, train_loss/len(train_dataset), val1_train, val2_train, test_loss/len(test_dataset), val1_test, val2_test))\n",
    "\n",
    "    net.save_parameters('process/ssd_%d.params' % epoch)"
   ]
  },
  {
   "cell_type": "raw",
   "metadata": {},
   "source": [
    "epoch:  1;\t train:5.324181e-03;0.991906;2.067352e-03;\t test:2.591224e-03;0.996757;1.922508e-03\n",
    "epoch:  2;\t train:3.236362e-03;0.997087;2.007160e-03;\t test:2.412112e-03;0.997530;1.891264e-03\n",
    "epoch:  3;\t train:3.000495e-03;0.997656;1.971673e-03;\t test:2.322362e-03;0.997785;1.886420e-03\n",
    "epoch:  4;\t train:2.786469e-03;0.997770;1.952045e-03;\t test:2.230651e-03;0.997815;1.877235e-03\n",
    "epoch:  5;\t train:2.655004e-03;0.997794;1.931696e-03;\t test:2.184055e-03;0.997845;1.849026e-03\n",
    "epoch:  6;\t train:2.569443e-03;0.997810;1.934809e-03;\t test:2.119953e-03;0.997906;1.851332e-03\n",
    "epoch:  7;\t train:2.505768e-03;0.997863;1.917984e-03;\t test:2.119484e-03;0.997950;1.861915e-03\n",
    "epoch:  8;\t train:2.469420e-03;0.997900;1.922750e-03;\t test:2.070966e-03;0.997943;1.863940e-03\n",
    "epoch:  9;\t train:2.424883e-03;0.997937;1.902760e-03;\t test:2.031557e-03;0.997966;1.846208e-03\n",
    "epoch: 10;\t train:2.394634e-03;0.997945;1.903899e-03;\t test:2.020531e-03;0.998020;1.834323e-03\n",
    "epoch: 11;\t train:2.346042e-03;0.997977;1.900567e-03;\t test:2.007808e-03;0.998064;1.839828e-03\n",
    "epoch: 12;\t train:2.337812e-03;0.998008;1.902021e-03;\t test:1.979182e-03;0.998049;1.842102e-03\n",
    "epoch: 13;\t train:2.291204e-03;0.998030;1.885194e-03;\t test:1.915272e-03;0.998104;1.790596e-03\n",
    "epoch: 14;\t train:2.275164e-03;0.998035;1.887621e-03;\t test:1.943161e-03;0.998075;1.847862e-03\n",
    "epoch: 15;\t train:2.249801e-03;0.998041;1.892542e-03;\t test:1.887697e-03;0.998115;1.807410e-03\n",
    "epoch: 16;\t train:2.229546e-03;0.998049;1.886343e-03;\t test:1.871661e-03;0.998105;1.813873e-03\n",
    "epoch: 17;\t train:2.215078e-03;0.998065;1.878982e-03;\t test:1.854556e-03;0.998123;1.797837e-03\n",
    "epoch: 18;\t train:2.190800e-03;0.998059;1.881293e-03;\t test:1.855243e-03;0.998115;1.800777e-03\n",
    "epoch: 19;\t train:2.159333e-03;0.998087;1.857693e-03;\t test:1.826446e-03;0.998136;1.799236e-03\n",
    "epoch: 20;\t train:2.154922e-03;0.998092;1.866397e-03;\t test:1.815598e-03;0.998149;1.796978e-03\n",
    "epoch: 21;\t train:2.139192e-03;0.998100;1.866254e-03;\t test:1.811762e-03;0.998136;1.806199e-03\n",
    "epoch: 22;\t train:2.132090e-03;0.998106;1.867060e-03;\t test:1.794276e-03;0.998150;1.796197e-03\n",
    "epoch: 23;\t train:2.100418e-03;0.998123;1.852037e-03;\t test:1.760752e-03;0.998201;1.761360e-03\n",
    "epoch: 24;\t train:2.102695e-03;0.998135;1.851490e-03;\t test:1.762128e-03;0.998201;1.765591e-03\n",
    "epoch: 25;\t train:2.093502e-03;0.998142;1.856014e-03;\t test:1.771309e-03;0.998178;1.786532e-03\n",
    "epoch: 26;\t train:2.082418e-03;0.998147;1.855462e-03;\t test:1.744957e-03;0.998208;1.766975e-03\n",
    "epoch: 27;\t train:2.082798e-03;0.998133;1.861970e-03;\t test:1.749010e-03;0.998185;1.777690e-03\n",
    "epoch: 28;\t train:2.061307e-03;0.998147;1.847923e-03;\t test:1.711428e-03;0.998196;1.755374e-03\n",
    "epoch: 29;\t train:2.048499e-03;0.998143;1.843156e-03;\t test:1.693074e-03;0.998222;1.732035e-03\n",
    "epoch: 30;\t train:2.054230e-03;0.998140;1.849458e-03;\t test:1.728294e-03;0.998192;1.769428e-03\n",
    "epoch: 31;\t train:2.055726e-03;0.998129;1.857067e-03;\t test:1.711705e-03;0.998200;1.753033e-03\n",
    "epoch: 32;\t train:2.014034e-03;0.998160;1.823837e-03;\t test:1.725220e-03;0.998185;1.770833e-03\n",
    "epoch: 33;\t train:2.024176e-03;0.998146;1.838116e-03;\t test:1.731534e-03;0.998163;1.792144e-03\n",
    "epoch: 34;\t train:2.011143e-03;0.998147;1.835776e-03;\t test:1.696076e-03;0.998196;1.752819e-03\n",
    "epoch: 35;\t train:2.024428e-03;0.998137;1.842324e-03;\t test:1.682223e-03;0.998205;1.742777e-03\n",
    "epoch: 36;\t train:2.007697e-03;0.998142;1.838334e-03;\t test:1.656005e-03;0.998212;1.724740e-03\n",
    "epoch: 37;\t train:1.987386e-03;0.998140;1.829170e-03;\t test:1.721354e-03;0.998163;1.782610e-03\n",
    "epoch: 38;\t train:1.990374e-03;0.998136;1.836964e-03;\t test:1.688453e-03;0.998183;1.757661e-03\n",
    "epoch: 39;\t train:1.987190e-03;0.998142;1.829504e-03;\t test:1.677169e-03;0.998177;1.753322e-03\n",
    "epoch: 40;\t train:1.989898e-03;0.998141;1.834003e-03;\t test:1.686463e-03;0.998163;1.776321e-03\n",
    "epoch: 41;\t train:1.973682e-03;0.998144;1.830208e-03;\t test:1.655937e-03;0.998213;1.736877e-03\n",
    "epoch: 42;\t train:1.971684e-03;0.998147;1.825071e-03;\t test:1.658951e-03;0.998202;1.737041e-03\n",
    "epoch: 43;\t train:1.969876e-03;0.998141;1.832026e-03;\t test:1.661980e-03;0.998196;1.743226e-03\n",
    "epoch: 44;\t train:1.955181e-03;0.998147;1.823228e-03;\t test:1.642081e-03;0.998208;1.726266e-03\n",
    "epoch: 45;\t train:1.946846e-03;0.998149;1.816036e-03;\t test:1.651606e-03;0.998200;1.738099e-03\n",
    "epoch: 46;\t train:1.966247e-03;0.998135;1.832383e-03;\t test:1.634553e-03;0.998213;1.717495e-03\n",
    "epoch: 47;\t train:1.956855e-03;0.998144;1.825309e-03;\t test:1.639128e-03;0.998212;1.727647e-03\n",
    "epoch: 48;\t train:1.934911e-03;0.998150;1.813846e-03;\t test:1.642369e-03;0.998200;1.738481e-03\n",
    "epoch: 49;\t train:1.944504e-03;0.998147;1.821698e-03;\t test:1.638506e-03;0.998185;1.741939e-03\n",
    "epoch: 50;\t train:1.938774e-03;0.998146;1.821498e-03;\t test:1.617424e-03;0.998225;1.709107e-03\n",
    "epoch: 51;\t train:1.928045e-03;0.998149;1.812836e-03;\t test:1.642162e-03;0.998203;1.734017e-03\n",
    "epoch: 52;\t train:1.916749e-03;0.998163;1.800111e-03;\t test:1.629609e-03;0.998201;1.736716e-03\n",
    "epoch: 53;\t train:1.921403e-03;0.998148;1.813689e-03;\t test:1.601616e-03;0.998221;1.704130e-03\n",
    "epoch: 54;\t train:1.923771e-03;0.998152;1.810016e-03;\t test:1.627268e-03;0.998196;1.738001e-03\n",
    "epoch: 55;\t train:1.925047e-03;0.998140;1.821337e-03;\t test:1.661657e-03;0.998173;1.762080e-03\n",
    "epoch: 56;\t train:1.930825e-03;0.998140;1.821930e-03;\t test:1.587649e-03;0.998230;1.693553e-03\n",
    "epoch: 57;\t train:1.911710e-03;0.998144;1.810003e-03;\t test:1.625001e-03;0.998212;1.726651e-03\n",
    "epoch: 58;\t train:1.910460e-03;0.998151;1.810501e-03;\t test:1.606541e-03;0.998231;1.708729e-03\n",
    "epoch: 59;\t train:1.913915e-03;0.998156;1.807819e-03;\t test:1.616999e-03;0.998198;1.725114e-03\n",
    "epoch: 60;\t train:1.907166e-03;0.998150;1.813051e-03;\t test:1.630456e-03;0.998196;1.734754e-03\n",
    "epoch: 61;\t train:1.910745e-03;0.998148;1.814578e-03;\t test:1.605282e-03;0.998229;1.705072e-03\n",
    "epoch: 62;\t train:1.908550e-03;0.998151;1.811338e-03;\t test:1.590602e-03;0.998221;1.704348e-03\n",
    "epoch: 63;\t train:1.896844e-03;0.998150;1.805112e-03;\t test:1.613598e-03;0.998200;1.726736e-03\n",
    "epoch: 64;\t train:1.906964e-03;0.998151;1.808362e-03;\t test:1.615268e-03;0.998211;1.728119e-03\n",
    "epoch: 65;\t train:1.900945e-03;0.998147;1.811117e-03;\t test:1.624738e-03;0.998181;1.737754e-03\n",
    "epoch: 66;\t train:1.904332e-03;0.998143;1.816527e-03;\t test:1.579068e-03;0.998217;1.702409e-03\n",
    "epoch: 67;\t train:1.898367e-03;0.998151;1.805787e-03;\t test:1.635198e-03;0.998178;1.756203e-03\n",
    "epoch: 68;\t train:1.897383e-03;0.998144;1.811670e-03;\t test:1.600947e-03;0.998218;1.711861e-03\n",
    "epoch: 69;\t train:1.889290e-03;0.998155;1.800843e-03;\t test:1.587200e-03;0.998213;1.705349e-03\n",
    "epoch: 70;\t train:1.889322e-03;0.998156;1.801452e-03;\t test:1.606825e-03;0.998208;1.718229e-03\n",
    "epoch: 71;\t train:1.890344e-03;0.998146;1.808443e-03;\t test:1.565349e-03;0.998242;1.679728e-03\n",
    "epoch: 72;\t train:1.879856e-03;0.998160;1.792864e-03;\t test:1.593794e-03;0.998217;1.708214e-03\n",
    "epoch: 73;\t train:1.881296e-03;0.998151;1.801546e-03;\t test:1.617259e-03;0.998195;1.735837e-03\n",
    "epoch: 74;\t train:1.892817e-03;0.998145;1.814608e-03;\t test:1.564259e-03;0.998237;1.677583e-03\n",
    "epoch: 75;\t train:1.878871e-03;0.998162;1.796088e-03;\t test:1.596053e-03;0.998211;1.710394e-03\n",
    "epoch: 76;\t train:1.889418e-03;0.998149;1.805770e-03;\t test:1.613183e-03;0.998185;1.732659e-03\n",
    "epoch: 77;\t train:1.869918e-03;0.998164;1.792580e-03;\t test:1.598337e-03;0.998206;1.717657e-03\n",
    "epoch: 78;\t train:1.881206e-03;0.998156;1.798713e-03;\t test:1.585029e-03;0.998207;1.712519e-03\n",
    "epoch: 79;\t train:1.877398e-03;0.998157;1.799010e-03;\t test:1.586086e-03;0.998226;1.697913e-03\n",
    "epoch: 80;\t train:1.877302e-03;0.998153;1.798243e-03;\t test:1.630547e-03;0.998183;1.751283e-03\n",
    "epoch: 81;\t train:1.880471e-03;0.998152;1.806734e-03;\t test:1.606656e-03;0.998199;1.729237e-03\n",
    "epoch: 82;\t train:1.876518e-03;0.998151;1.804360e-03;\t test:1.575778e-03;0.998243;1.687840e-03\n",
    "epoch: 83;\t train:1.872820e-03;0.998154;1.798829e-03;\t test:1.589881e-03;0.998217;1.710436e-03\n",
    "epoch: 84;\t train:1.868143e-03;0.998155;1.797846e-03;\t test:1.605471e-03;0.998187;1.728639e-03\n",
    "epoch: 85;\t train:1.875215e-03;0.998155;1.802672e-03;\t test:1.557663e-03;0.998240;1.680524e-03\n",
    "epoch: 86;\t train:1.874727e-03;0.998149;1.798668e-03;\t test:1.564305e-03;0.998240;1.687784e-03\n",
    "epoch: 87;\t train:1.871672e-03;0.998151;1.803415e-03;\t test:1.595781e-03;0.998203;1.723753e-03\n",
    "epoch: 88;\t train:1.870423e-03;0.998158;1.793798e-03;\t test:1.564761e-03;0.998228;1.691599e-03"
   ]
  },
  {
   "cell_type": "markdown",
   "metadata": {},
   "source": [
    "## Test"
   ]
  },
  {
   "cell_type": "markdown",
   "metadata": {},
   "source": [
    "### Prepare the test data"
   ]
  },
  {
   "cell_type": "code",
   "execution_count": 39,
   "metadata": {},
   "outputs": [
    {
     "name": "stdout",
     "output_type": "stream",
     "text": [
      "('tensor shape:', (1L, 3L, 512L, 512L))\n"
     ]
    }
   ],
   "source": [
    "test_image, test_label = test_dataset[0]\n",
    "test_image2, test_label2 = test_transform(test_image, test_label)\n",
    "test_image2 = nd.expand_dims(test_image2,0)\n",
    "print('tensor shape:', test_image2.shape)"
   ]
  },
  {
   "cell_type": "markdown",
   "metadata": {},
   "source": [
    "### Network inference"
   ]
  },
  {
   "cell_type": "code",
   "execution_count": 40,
   "metadata": {},
   "outputs": [],
   "source": [
    "anchors, cls_preds, box_preds = net(test_image2.as_in_context(ctx))"
   ]
  },
  {
   "cell_type": "markdown",
   "metadata": {},
   "source": [
    "### Convert predictions to real object detection results"
   ]
  },
  {
   "cell_type": "code",
   "execution_count": 41,
   "metadata": {},
   "outputs": [],
   "source": [
    "from mxnet.contrib.ndarray import MultiBoxDetection\n",
    "cls_probs = nd.SoftmaxActivation(nd.transpose(cls_preds, (0, 2, 1)), mode='channel')\n",
    "output = MultiBoxDetection(cls_prob=cls_probs, loc_pred=box_preds, anchor=anchors, force_suppress=True, clip=True, nms_topk=250)"
   ]
  },
  {
   "cell_type": "markdown",
   "metadata": {},
   "source": [
    "### Display results"
   ]
  },
  {
   "cell_type": "code",
   "execution_count": 42,
   "metadata": {},
   "outputs": [
    {
     "name": "stderr",
     "output_type": "stream",
     "text": [
      "WARNING:matplotlib.image:Clipping input data to the valid range for imshow with RGB data ([0..1] for floats or [0..255] for integers).\n"
     ]
    },
    {
     "data": {
      "image/png": "[encoded data removed]",
      "text/plain": [
       "<Figure size 720x720 with 1 Axes>"
      ]
     },
     "metadata": {},
     "output_type": "display_data"
    }
   ],
   "source": [
    "class_names = ('cluster')\n",
    "def display(img, out, thresh=0.5):\n",
    "    import random\n",
    "    import matplotlib as mpl\n",
    "    import numpy as np\n",
    "    mpl.rcParams['figure.figsize'] = (10,10)\n",
    "    img = img.asnumpy()\n",
    "    img = np.transpose(img,(2,3,1,0))\n",
    "    img = np.squeeze(img)\n",
    "    plt.clf()\n",
    "    plt.imshow(img)\n",
    "    for det in out:\n",
    "        cid = int(det[0])\n",
    "        if cid == 0:\n",
    "            continue\n",
    "        score = det[1]\n",
    "        if score < thresh:\n",
    "            continue\n",
    "        scales = [img.shape[1], img.shape[0]] * 2\n",
    "        xmin, ymin, xmax, ymax = [int(p * s) for p, s in zip(det[2:6].tolist(), scales)]\n",
    "        rect = plt.Rectangle((xmin, ymin), xmax - xmin, ymax - ymin, fill=False,\n",
    "                             edgecolor='red', linewidth=3)\n",
    "        plt.gca().add_patch(rect)\n",
    "        text = class_names[cid]\n",
    "        plt.gca().text(xmin, ymin-2, '{:s} {:.3f}'.format(text, score),\n",
    "                       bbox=dict(facecolor='red', alpha=0.5),\n",
    "                       fontsize=12, color='white')\n",
    "\n",
    "display(test_image2, output[0].asnumpy(), thresh=0.3)"
   ]
  },
  {
   "cell_type": "code",
   "execution_count": null,
   "metadata": {},
   "outputs": [],
   "source": []
  },
  {
   "cell_type": "code",
   "execution_count": null,
   "metadata": {},
   "outputs": [],
   "source": []
  }
 ],
 "metadata": {
  "kernelspec": {
   "display_name": "Python 2",
   "language": "python",
   "name": "python2"
  },
  "language_info": {
   "codemirror_mode": {
    "name": "ipython",
    "version": 2
   },
   "file_extension": ".py",
   "mimetype": "text/x-python",
   "name": "python",
   "nbconvert_exporter": "python",
   "pygments_lexer": "ipython2",
   "version": "2.7.15rc1"
  }
 },
 "nbformat": 4,
 "nbformat_minor": 2
}

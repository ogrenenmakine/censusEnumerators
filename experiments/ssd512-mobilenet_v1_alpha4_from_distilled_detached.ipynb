{
 "cells": [
  {
   "cell_type": "code",
   "execution_count": 1,
   "metadata": {},
   "outputs": [],
   "source": [
    "%matplotlib inline\n",
    "import mxnet as mx\n",
    "from mxnet import nd\n",
    "from mxnet.contrib.ndarray import MultiBoxPrior\n",
    "from mxnet.gluon.contrib import nn as nn_contrib\n",
    "from mxnet.gluon import nn\n",
    "ctx = mx.gpu()"
   ]
  },
  {
   "cell_type": "markdown",
   "metadata": {},
   "source": [
    "### Predict classes\n",
    "- channel `i*(num_class+1)` store the scores for this box contains only background\n",
    "- channel `i*(num_class+1)+1+j` store the scores for this box contains an object from the *j*-th class"
   ]
  },
  {
   "cell_type": "code",
   "execution_count": 2,
   "metadata": {},
   "outputs": [],
   "source": [
    "def class_predictor(num_anchors, num_classes):\n",
    "    return nn.Conv2D(num_anchors * (num_classes + 1), 3, padding=1)"
   ]
  },
  {
   "cell_type": "markdown",
   "metadata": {},
   "source": [
    "### Predict anchor boxes\n",
    "- $t_x = (Y_x - b_x) / b_{width}$\n",
    "- $t_y = (Y_y - b_y) / b_{height}$\n",
    "- $t_{width} = (Y_{width} - b_{width}) / b_{width}$\n",
    "- $t_{height} = (Y_{height} - b_{height}) / b_{height}$"
   ]
  },
  {
   "cell_type": "code",
   "execution_count": 3,
   "metadata": {},
   "outputs": [],
   "source": [
    "def box_predictor(num_anchors):\n",
    "    return nn.Conv2D(num_anchors * 4, 3, padding=1)"
   ]
  },
  {
   "cell_type": "markdown",
   "metadata": {},
   "source": [
    "### Manage preditions from multiple layers"
   ]
  },
  {
   "cell_type": "code",
   "execution_count": 4,
   "metadata": {},
   "outputs": [],
   "source": [
    "def flatten_prediction(pred):\n",
    "    return nd.flatten(nd.transpose(pred, axes=(0, 2, 3, 1)))\n",
    "\n",
    "def concat_predictions(preds):\n",
    "    return nd.concat(*preds, dim=1)"
   ]
  },
  {
   "cell_type": "markdown",
   "metadata": {},
   "source": [
    "### Down-sample features"
   ]
  },
  {
   "cell_type": "code",
   "execution_count": 5,
   "metadata": {},
   "outputs": [],
   "source": [
    "def dp_layer(nfilters, stride, expension_constant):\n",
    "    out = nn.HybridSequential()\n",
    "    out.add(nn.Conv2D(nfilters, 3, strides=stride, padding=1, groups=nfilters, use_bias=False))\n",
    "    out.add(nn.BatchNorm(use_global_stats=False, epsilon=1e-05, momentum=0.9, axis=1))\n",
    "    out.add(nn.Activation('relu'))\n",
    "    out.add(nn.Conv2D(nfilters*expension_constant, 1, strides=1, padding=0, use_bias=False))\n",
    "    out.add(nn.BatchNorm(use_global_stats=False, epsilon=1e-05, momentum=0.9, axis=1))\n",
    "    out.add(nn.Activation('relu'))\n",
    "    return out"
   ]
  },
  {
   "cell_type": "markdown",
   "metadata": {},
   "source": [
    "### Scale units"
   ]
  },
  {
   "cell_type": "code",
   "execution_count": 6,
   "metadata": {},
   "outputs": [],
   "source": [
    "global alpha\n",
    "alpha = 0.25\n",
    "num_filters = int(32*alpha)"
   ]
  },
  {
   "cell_type": "markdown",
   "metadata": {},
   "source": [
    "### Body network"
   ]
  },
  {
   "cell_type": "code",
   "execution_count": 7,
   "metadata": {},
   "outputs": [],
   "source": [
    "from mxnet import gluon\n",
    "def s16():\n",
    "    out = nn.HybridSequential()\n",
    "    # conv_0 layer\n",
    "    out.add(nn.Conv2D(num_filters, 3, strides=2, padding=1, use_bias=False))\n",
    "    out.add(nn.BatchNorm(use_global_stats=False, epsilon=1e-05, momentum=0.9, axis=1))\n",
    "    out.add(nn.Activation('relu'))\n",
    "    # conv_1 layer\n",
    "    out.add(dp_layer(num_filters, 1, 2))\n",
    "    # conv_2 layer\n",
    "    out.add(dp_layer(num_filters*2, 2, 2))\n",
    "    # conv_3 layer\n",
    "    out.add(dp_layer(num_filters*4, 1, 1))\n",
    "    out.add(nn.Conv2D(num_filters*4, 3, strides=2, padding=1, groups=num_filters*4, use_bias=False))\n",
    "    #out.load_parameters(\"weights/mobilenet_0_25_s16_dist.params\", ctx=ctx)\n",
    "    out.hybridize()\n",
    "    return out\n",
    "\n",
    "def s32():\n",
    "    out = nn.HybridSequential()\n",
    "    # from last layer\n",
    "    out.add(nn.BatchNorm(use_global_stats=False, epsilon=1e-05, momentum=0.9, axis=1))\n",
    "    out.add(nn.Activation('relu'))\n",
    "    out.add(nn.Conv2D(num_filters*8, 1, strides=1, padding=0, use_bias=False))\n",
    "    out.add(nn.BatchNorm(use_global_stats=False, epsilon=1e-05, momentum=0.9, axis=1))\n",
    "    out.add(nn.Activation('relu'))\n",
    "    # conv_4_layer\n",
    "    out.add(dp_layer(num_filters*8, 1, 1))\n",
    "    out.add(nn.Conv2D(num_filters*8, 3, strides=2, padding=1, groups=num_filters*8, use_bias=False))\n",
    "    #out.load_parameters(\"weights/mobilenet_0_25_s32_dist.params\", ctx=ctx)\n",
    "    out.hybridize()\n",
    "    return out\n",
    "\n",
    "def b1():\n",
    "    out = nn.HybridSequential()\n",
    "    # from last layer\n",
    "    out.add(nn.BatchNorm(use_global_stats=False, epsilon=1e-05, momentum=0.9, axis=1))\n",
    "    out.add(nn.Activation('relu'))\n",
    "    out.add(nn.Conv2D(num_filters*16, 1, strides=1, padding=0, use_bias=False))\n",
    "    out.add(nn.BatchNorm(use_global_stats=False, epsilon=1e-05, momentum=0.9, axis=1))\n",
    "    out.add(nn.Activation('relu'))\n",
    "    # conv_6_layer\n",
    "    out.add(dp_layer(num_filters*16, 1, 1))\n",
    "    out.add(nn.Conv2D(num_filters*16, 3, strides=2, padding=1, groups=num_filters*16, use_bias=False))\n",
    "    #out.initialize(mx.init.Xavier(magnitude=2), ctx=ctx)\n",
    "    out.hybridize()\n",
    "    return out\n",
    "\n",
    "def b2():\n",
    "    out = nn.HybridSequential()\n",
    "    # from last layer\n",
    "    out.add(nn.BatchNorm(use_global_stats=False, epsilon=1e-05, momentum=0.9, axis=1))\n",
    "    out.add(nn.Activation('relu'))\n",
    "    out.add(nn.Conv2D(num_filters*16, 1, strides=1, padding=0, use_bias=False))\n",
    "    out.add(nn.BatchNorm(use_global_stats=False, epsilon=1e-05, momentum=0.9, axis=1))\n",
    "    out.add(nn.Activation('relu'))\n",
    "    # conv_7_layer\n",
    "    out.add(dp_layer(num_filters*16, 1, 1))\n",
    "    out.add(nn.Conv2D(num_filters*16, 3, strides=2, padding=1, groups=num_filters*16, use_bias=False))\n",
    "    #out.initialize(mx.init.Xavier(magnitude=2), ctx=ctx)\n",
    "    out.hybridize()\n",
    "    return out\n",
    "\n",
    "def b3():\n",
    "    out = nn.HybridSequential()\n",
    "    # from last layer\n",
    "    out.add(nn.BatchNorm(use_global_stats=False, epsilon=1e-05, momentum=0.9, axis=1))\n",
    "    out.add(nn.Activation('relu'))\n",
    "    out.add(nn.Conv2D(num_filters*16, 1, strides=1, padding=0, use_bias=False))\n",
    "    out.add(nn.BatchNorm(use_global_stats=False, epsilon=1e-05, momentum=0.9, axis=1))\n",
    "    out.add(nn.Activation('relu'))\n",
    "    # conv_8_layer\n",
    "    out.add(dp_layer(num_filters*16, 1, 1))\n",
    "    out.add(nn.Conv2D(num_filters*16, 3, strides=2, padding=1, groups=num_filters*16, use_bias=False))\n",
    "    #out.initialize(mx.init.Xavier(magnitude=2), ctx=ctx)\n",
    "    out.hybridize()\n",
    "    return out\n",
    "\n",
    "def b4():\n",
    "    out = nn.HybridSequential()\n",
    "    # from last layer\n",
    "    out.add(nn.BatchNorm(use_global_stats=False, epsilon=1e-05, momentum=0.9, axis=1))\n",
    "    out.add(nn.Activation('relu'))\n",
    "    out.add(nn.Conv2D(num_filters*16, 1, strides=1, padding=0, use_bias=False))\n",
    "    out.add(nn.BatchNorm(use_global_stats=False, epsilon=1e-05, momentum=0.9, axis=1))\n",
    "    out.add(nn.Activation('relu'))\n",
    "    # conv_9_layer\n",
    "    out.add(dp_layer(num_filters*16, 1, 1))\n",
    "    out.add(nn.Conv2D(num_filters*16, 3, strides=2, padding=1, groups=num_filters*16, use_bias=False))\n",
    "    #out.initialize(mx.init.Xavier(magnitude=2), ctx=ctx)\n",
    "    out.hybridize()\n",
    "    return out"
   ]
  },
  {
   "cell_type": "markdown",
   "metadata": {},
   "source": [
    "### Create an SSD model"
   ]
  },
  {
   "cell_type": "code",
   "execution_count": 8,
   "metadata": {},
   "outputs": [],
   "source": [
    "def ssd_model(num_anchors, num_classes):\n",
    "    class_preds = nn.Sequential()\n",
    "    box_preds = nn.Sequential()\n",
    "    \n",
    "    for scale in range(6):\n",
    "        class_preds.add(class_predictor(num_anchors, num_classes))\n",
    "        box_preds.add(box_predictor(num_anchors))\n",
    "    \n",
    "    class_preds.initialize(mx.init.Xavier(magnitude=2), ctx=ctx)\n",
    "    box_preds.initialize(mx.init.Xavier(magnitude=2), ctx=ctx)\n",
    "    return s16(), s32(), b1(), b2(), b3(), b4(), class_preds, box_preds"
   ]
  },
  {
   "cell_type": "markdown",
   "metadata": {},
   "source": [
    "### Forward"
   ]
  },
  {
   "cell_type": "code",
   "execution_count": 9,
   "metadata": {},
   "outputs": [],
   "source": [
    "def ssd_forward(x, s16, s32, b1, b2, b3, b4, class_preds, box_preds, sizes, ratios):\n",
    "    default_anchors = []\n",
    "    predicted_boxes = []  \n",
    "    predicted_classes = []\n",
    "\n",
    "    x = s16(x).detach()\n",
    "    default_anchors.append(MultiBoxPrior(x, sizes=sizes[0], ratios=ratios[0]))\n",
    "    predicted_boxes.append(flatten_prediction(box_preds[0](x)))\n",
    "    predicted_classes.append(flatten_prediction(class_preds[0](x)))\n",
    "    \n",
    "    x = s32(x).detach()\n",
    "    default_anchors.append(MultiBoxPrior(x, sizes=sizes[1], ratios=ratios[1]))\n",
    "    predicted_boxes.append(flatten_prediction(box_preds[1](x)))\n",
    "    predicted_classes.append(flatten_prediction(class_preds[1](x)))\n",
    "    \n",
    "    x = b1(x)\n",
    "    default_anchors.append(MultiBoxPrior(x, sizes=sizes[2], ratios=ratios[2]))\n",
    "    predicted_boxes.append(flatten_prediction(box_preds[2](x)))\n",
    "    predicted_classes.append(flatten_prediction(class_preds[2](x)))\n",
    "    \n",
    "    x = b2(x)\n",
    "    default_anchors.append(MultiBoxPrior(x, sizes=sizes[3], ratios=ratios[3]))\n",
    "    predicted_boxes.append(flatten_prediction(box_preds[3](x)))\n",
    "    predicted_classes.append(flatten_prediction(class_preds[3](x)))\n",
    "    \n",
    "    x = b3(x)\n",
    "    default_anchors.append(MultiBoxPrior(x, sizes=sizes[4], ratios=ratios[4]))\n",
    "    predicted_boxes.append(flatten_prediction(box_preds[4](x)))\n",
    "    predicted_classes.append(flatten_prediction(class_preds[4](x)))\n",
    "    \n",
    "    x = b4(x)\n",
    "    default_anchors.append(MultiBoxPrior(x, sizes=sizes[5], ratios=ratios[5]))\n",
    "    predicted_boxes.append(flatten_prediction(box_preds[5](x)))\n",
    "    predicted_classes.append(flatten_prediction(class_preds[5](x)))\n",
    "\n",
    "    return default_anchors, predicted_classes, predicted_boxes"
   ]
  },
  {
   "cell_type": "markdown",
   "metadata": {},
   "source": [
    "### Put all things together"
   ]
  },
  {
   "cell_type": "code",
   "execution_count": 10,
   "metadata": {
    "scrolled": true
   },
   "outputs": [],
   "source": [
    "from mxnet import gluon\n",
    "class SSD(gluon.Block):\n",
    "    def __init__(self, num_classes, **kwargs):\n",
    "        super(SSD, self).__init__(**kwargs)\n",
    "        self.anchor_sizes = [[0.04, 0.1],[0.1,0.26],[0.26,0.42],[0.42,0.58],[0.58,0.74],[0.74,0.9],[0.9,1.06]]\n",
    "        self.anchor_ratios = [[1, 2, .5]] * 6\n",
    "        self.num_classes = num_classes\n",
    "\n",
    "        with self.name_scope():\n",
    "            self.s16, self.s32, self.b1, self.b2, self.b3, self.b4, self.class_preds, self.box_preds = ssd_model(4, num_classes)\n",
    "            \n",
    "    def forward(self, x):\n",
    "        default_anchors, predicted_classes, predicted_boxes = ssd_forward(x, self.s16, self.s32, self.b1, self.b2, self.b3, self.b4,\n",
    "            self.class_preds, self.box_preds, self.anchor_sizes, self.anchor_ratios)\n",
    "        anchors = concat_predictions(default_anchors)\n",
    "        box_preds = concat_predictions(predicted_boxes)\n",
    "        class_preds = concat_predictions(predicted_classes)\n",
    "        class_preds = nd.reshape(class_preds, shape=(0, -1, self.num_classes + 1))\n",
    "        \n",
    "        return anchors, class_preds, box_preds"
   ]
  },
  {
   "cell_type": "markdown",
   "metadata": {},
   "source": [
    "### Outputs of SSD"
   ]
  },
  {
   "cell_type": "code",
   "execution_count": 11,
   "metadata": {},
   "outputs": [
    {
     "name": "stdout",
     "output_type": "stream",
     "text": [
      "('Outputs:', 'anchors', (1L, 21840L, 4L), 'class prediction', (1L, 21840L, 3L), 'box prediction', (1L, 87360L))\n"
     ]
    }
   ],
   "source": [
    "net = SSD(2)\n",
    "#net.initialize(mx.init.Xavier(magnitude=2), ctx=ctx)\n",
    "net.load_parameters(\"process/ssd_215.params\",ctx=ctx)\n",
    "x = nd.zeros((1, 3, 512, 512),ctx=ctx)\n",
    "default_anchors, class_predictions, box_predictions = net(x)\n",
    "print('Outputs:', 'anchors', default_anchors.shape, 'class prediction', class_predictions.shape, 'box prediction', box_predictions.shape)"
   ]
  },
  {
   "cell_type": "markdown",
   "metadata": {},
   "source": [
    "### Load dataset"
   ]
  },
  {
   "cell_type": "code",
   "execution_count": 12,
   "metadata": {},
   "outputs": [
    {
     "name": "stdout",
     "output_type": "stream",
     "text": [
      "('Training images:', 10854)\n",
      "('Test images:', 1488)\n"
     ]
    }
   ],
   "source": [
    "from source.NACDDetection import NACDDetection\n",
    "\n",
    "train_dataset = NACDDetection(splits=[('NACDwNegswAugCropped', 'train')])\n",
    "test_dataset = NACDDetection(splits=[('NACDwNegswAugCropped', 'test')])\n",
    "\n",
    "print('Training images:', len(train_dataset))\n",
    "print('Test images:', len(test_dataset))"
   ]
  },
  {
   "cell_type": "code",
   "execution_count": 13,
   "metadata": {},
   "outputs": [],
   "source": [
    "from source import NACDTransform\n",
    "width, height = 512, 512\n",
    "train_transform = NACDTransform.NACDDefaultTransform(width, height, False)\n",
    "test_transform = NACDTransform.NACDDefaultTransform(width, height, True)"
   ]
  },
  {
   "cell_type": "code",
   "execution_count": 14,
   "metadata": {},
   "outputs": [],
   "source": [
    "from gluoncv.data.transforms import presets\n",
    "from gluoncv import utils\n",
    "from mxnet import nd\n",
    "from matplotlib import pyplot as plt\n",
    "from gluoncv.utils import viz"
   ]
  },
  {
   "cell_type": "code",
   "execution_count": 15,
   "metadata": {},
   "outputs": [
    {
     "name": "stdout",
     "output_type": "stream",
     "text": [
      "('image:', (650L, 650L, 3L))\n",
      "('bboxes:', (4, 4), 'class ids:', (4, 1))\n"
     ]
    }
   ],
   "source": [
    "train_image, train_label = test_dataset[0]\n",
    "bboxes = train_label[:, :4]\n",
    "cids = train_label[:, 4:5]\n",
    "print('image:', train_image.shape)\n",
    "print('bboxes:', bboxes.shape, 'class ids:', cids.shape)"
   ]
  },
  {
   "cell_type": "code",
   "execution_count": 16,
   "metadata": {},
   "outputs": [
    {
     "name": "stdout",
     "output_type": "stream",
     "text": [
      "('tensor shape:', (3L, 512L, 512L))\n"
     ]
    }
   ],
   "source": [
    "train_image2, train_label2 = train_transform(train_image, train_label)\n",
    "print('tensor shape:', train_image2.shape)"
   ]
  },
  {
   "cell_type": "code",
   "execution_count": 17,
   "metadata": {},
   "outputs": [
    {
     "name": "stdout",
     "output_type": "stream",
     "text": [
      "('data:', (16L, 3L, 512L, 512L), 'label:', (16L, 9L, 6L))\n",
      "('data:', (16L, 3L, 512L, 512L), 'label:', (16L, 6L, 6L))\n",
      "('data:', (16L, 3L, 512L, 512L), 'label:', (16L, 10L, 6L))\n",
      "('data:', (16L, 3L, 512L, 512L), 'label:', (16L, 7L, 6L))\n"
     ]
    }
   ],
   "source": [
    "from gluoncv.data.batchify import Tuple, Stack, Pad\n",
    "from mxnet.gluon.data import DataLoader\n",
    "\n",
    "batch_size = 16\n",
    "num_workers = 4\n",
    "\n",
    "batchify_fn = Tuple(Stack(), Pad(pad_val=-1))\n",
    "train_loader = DataLoader(train_dataset.transform(train_transform), batch_size, shuffle=True,\n",
    "                          batchify_fn=batchify_fn, last_batch='rollover', num_workers=num_workers)\n",
    "test_loader = DataLoader(test_dataset.transform(test_transform), batch_size, shuffle=False,\n",
    "                        batchify_fn=batchify_fn, last_batch='keep', num_workers=num_workers)\n",
    "\n",
    "for ib, batch in enumerate(test_loader):\n",
    "    if ib > 3:\n",
    "        break\n",
    "    print('data:', batch[0].shape, 'label:', batch[1].shape)"
   ]
  },
  {
   "cell_type": "code",
   "execution_count": 18,
   "metadata": {},
   "outputs": [
    {
     "data": {
      "image/png": "[encoded data removed]",
      "text/plain": [
       "<Figure size 432x288 with 1 Axes>"
      ]
     },
     "metadata": {},
     "output_type": "display_data"
    }
   ],
   "source": [
    "train_image2 = train_image2.transpose((1, 2, 0)) * nd.array((0.229, 0.224, 0.225)) + nd.array((0.485, 0.456, 0.406))\n",
    "train_image2 = (train_image2 * 255).clip(0, 255)\n",
    "ax = viz.plot_bbox(train_image2.asnumpy(), train_label2[:, :4],\n",
    "                   labels=train_label2[:, 4:5],\n",
    "                   class_names=train_dataset.classes)\n",
    "plt.show()"
   ]
  },
  {
   "cell_type": "markdown",
   "metadata": {},
   "source": [
    "## Train"
   ]
  },
  {
   "cell_type": "code",
   "execution_count": 19,
   "metadata": {},
   "outputs": [],
   "source": [
    "from mxnet.contrib.ndarray import MultiBoxTarget\n",
    "def training_targets(default_anchors, class_predicts, labels):\n",
    "    class_predicts = nd.transpose(class_predicts, axes=(0, 2, 1))\n",
    "    z = MultiBoxTarget(anchor=default_anchors.as_in_context(mx.cpu()), label=labels.as_in_context(mx.cpu()), cls_pred=class_predicts.as_in_context(mx.cpu()))\n",
    "    box_target = z[0].as_in_context(ctx)  # box offset target for (x, y, width, height)\n",
    "    box_mask = z[1].as_in_context(ctx)  # mask is used to ignore box offsets we don't want to penalize, e.g. negative samples\n",
    "    cls_target = z[2].as_in_context(ctx)  # cls_target is an array of labels for all anchors boxes\n",
    "    return box_target, box_mask, cls_target"
   ]
  },
  {
   "cell_type": "code",
   "execution_count": 20,
   "metadata": {},
   "outputs": [],
   "source": [
    "def convertlbl(y):\n",
    "    mtrx = y[:,:,0:4]\n",
    "    mtrx = mtrx.asnumpy()\n",
    "    mtrx[mtrx == -1] = -width\n",
    "    mtrx = mtrx/512\n",
    "    return mx.nd.concat(nd.expand_dims(y[:,:,4],2),mx.nd.array(mtrx),dim=2)"
   ]
  },
  {
   "cell_type": "code",
   "execution_count": 21,
   "metadata": {},
   "outputs": [
    {
     "name": "stdout",
     "output_type": "stream",
     "text": [
      "FocalLoss(batch_axis=0, w=None)\n"
     ]
    }
   ],
   "source": [
    "class FocalLoss(gluon.loss.Loss):\n",
    "    def __init__(self, axis=-1, alpha=0.25, gamma=2, batch_axis=0, **kwargs):\n",
    "        super(FocalLoss, self).__init__(None, batch_axis, **kwargs)\n",
    "        self._axis = axis\n",
    "        self._alpha = alpha\n",
    "        self._gamma = gamma\n",
    "    \n",
    "    def hybrid_forward(self, F, output, label):\n",
    "        output = F.softmax(output)\n",
    "        pt = F.pick(output, label, axis=self._axis, keepdims=True)\n",
    "        loss = -self._alpha * ((1 - pt) ** self._gamma) * F.log(pt)\n",
    "        return F.mean(loss, axis=self._batch_axis, exclude=True)\n",
    "\n",
    "# cls_loss = gluon.loss.SoftmaxCrossEntropyLoss()\n",
    "cls_loss = FocalLoss()\n",
    "print(cls_loss)"
   ]
  },
  {
   "cell_type": "code",
   "execution_count": 22,
   "metadata": {},
   "outputs": [
    {
     "name": "stdout",
     "output_type": "stream",
     "text": [
      "SmoothL1Loss(batch_axis=0, w=None)\n"
     ]
    }
   ],
   "source": [
    "class SmoothL1Loss(gluon.loss.Loss):\n",
    "    def __init__(self, batch_axis=0, **kwargs):\n",
    "        super(SmoothL1Loss, self).__init__(None, batch_axis, **kwargs)\n",
    "    \n",
    "    def hybrid_forward(self, F, output, label, mask):\n",
    "        loss = F.smooth_l1((output - label) * mask, scalar=1.0)\n",
    "        return F.mean(loss, self._batch_axis, exclude=True)\n",
    "\n",
    "box_loss = SmoothL1Loss()\n",
    "print(box_loss)"
   ]
  },
  {
   "cell_type": "markdown",
   "metadata": {},
   "source": [
    "### Initialize parameters"
   ]
  },
  {
   "cell_type": "code",
   "execution_count": 23,
   "metadata": {},
   "outputs": [],
   "source": [
    "import time\n",
    "from mxnet import autograd as ag\n",
    "from gluoncv.loss import SSDMultiBoxLoss"
   ]
  },
  {
   "cell_type": "raw",
   "metadata": {},
   "source": [
    "# loop params\n",
    "epochs = 350\n",
    "start_epoch = 40\n",
    "\n",
    "# initialize trainer\n",
    "net.collect_params().reset_ctx(ctx)\n",
    "trainer = gluon.Trainer(net.collect_params(), 'sgd', {'learning_rate': 1e-1, 'wd': 4e-5})\n",
    "\n",
    "# evaluation metrics\n",
    "cls_metric = mx.metric.Accuracy()\n",
    "box_metric = mx.metric.MAE()\n",
    "cls_metric_test = mx.metric.Accuracy()\n",
    "box_metric_test = mx.metric.MAE()\n",
    "\n",
    "# training loop\n",
    "for epoch in range(start_epoch, epochs):\n",
    "    # reset iterator and tick\n",
    "    #train_data.reset()\n",
    "    cls_metric.reset()\n",
    "    box_metric.reset()\n",
    "    tic = time.time()\n",
    "    train_loss = 0\n",
    "    # iterate through all batch\n",
    "    for i, batch in enumerate(train_loader):\n",
    "        # record gradients\n",
    "        with ag.record():\n",
    "            x = batch[0].as_in_context(ctx)\n",
    "            y = batch[1].as_in_context(ctx)\n",
    "            lbl = convertlbl(batch[1])\n",
    "            default_anchors, class_predictions, box_predictions = net(x)\n",
    "            box_target, box_mask, cls_target = training_targets(default_anchors, class_predictions, lbl)\n",
    "            # losses\n",
    "            loss1 = cls_loss(class_predictions, cls_target)\n",
    "            loss2 = box_loss(box_predictions, box_target, box_mask)\n",
    "            # sum all losses\n",
    "            loss = loss1 + loss2\n",
    "            train_loss += nd.sum(loss).asscalar()\n",
    "            # backpropagate\n",
    "            loss.backward()\n",
    "        # apply \n",
    "        trainer.step(batch_size, ignore_stale_grad=True)\n",
    "        # update metrics\n",
    "        cls_metric.update([cls_target], [nd.transpose(class_predictions, (0, 2, 1))])\n",
    "        box_metric.update([box_target], [box_predictions * box_mask])\n",
    "        #if (i + 1) % log_interval == 0:\n",
    "    toc = time.time()\n",
    "    name1_train, val1_train = cls_metric.get()\n",
    "    name2_train, val2_train = box_metric.get()\n",
    "\n",
    "    cls_metric_test.reset()\n",
    "    box_metric_test.reset()\n",
    "    tic = time.time()\n",
    "    test_loss = 0\n",
    "    for i, batch in enumerate(test_loader):\n",
    "        # record gradients\n",
    "        x = batch[0].as_in_context(ctx)\n",
    "        y = batch[1].as_in_context(ctx)\n",
    "        lbl = convertlbl(batch[1])\n",
    "        default_anchors, class_predictions, box_predictions = net(x)\n",
    "        box_target, box_mask, cls_target = training_targets(default_anchors, class_predictions, lbl)\n",
    "        # losses\n",
    "        loss1 = cls_loss(class_predictions, cls_target)\n",
    "        loss2 = box_loss(box_predictions, box_target, box_mask)\n",
    "        # sum all losses\n",
    "        loss = loss1 + loss2\n",
    "        test_loss += nd.sum(loss).asscalar()\n",
    "        # update metrics\n",
    "        cls_metric_test.update([cls_target], [nd.transpose(class_predictions, (0, 2, 1))])\n",
    "        box_metric_test.update([box_target], [box_predictions * box_mask])\n",
    "        #if (i + 1) % log_interval == 0:\n",
    "    toc = time.time()\n",
    "    name1_test, val1_test = cls_metric_test.get()\n",
    "    name2_test, val2_test = box_metric_test.get()\n",
    "    print('epoch:%3d;\\t train:%.6e;%f;%.6e;\\t test:%.6e;%f;%.6e'\n",
    "          %(epoch, train_loss/len(train_dataset), val1_train, val2_train, test_loss/len(test_dataset), val1_test, val2_test))\n",
    "\n",
    "    net.save_parameters('process/ssd_%d.params' % epoch)"
   ]
  },
  {
   "cell_type": "raw",
   "metadata": {},
   "source": [
    "epoch:  0;\t train:1.222646e-02;0.982588;2.020338e-03;\t test:6.279030e-03;0.995117;1.940758e-03\n",
    "epoch:  1;\t train:5.391837e-03;0.996071;2.004802e-03;\t test:4.430945e-03;0.996869;1.933828e-03\n",
    "epoch:  2;\t train:4.270169e-03;0.996994;1.992399e-03;\t test:3.803215e-03;0.997271;1.955591e-03\n",
    "epoch:  3;\t train:3.782787e-03;0.997328;2.007700e-03;\t test:3.430310e-03;0.997532;1.959821e-03\n",
    "epoch:  4;\t train:3.479196e-03;0.997569;2.000123e-03;\t test:3.156469e-03;0.997757;1.924344e-03\n",
    "epoch:  5;\t train:3.256097e-03;0.997747;1.981326e-03;\t test:2.937976e-03;0.997895;1.897666e-03\n",
    "epoch:  6;\t train:3.110692e-03;0.997833;1.998842e-03;\t test:2.873769e-03;0.997886;1.984168e-03\n",
    "epoch:  7;\t train:2.970224e-03;0.997909;1.975826e-03;\t test:2.696889e-03;0.997992;1.921807e-03\n",
    "epoch:  8;\t train:2.885718e-03;0.997936;1.993414e-03;\t test:2.648381e-03;0.997978;1.961393e-03\n",
    "epoch:  9;\t train:2.791453e-03;0.997977;1.979761e-03;\t test:2.599324e-03;0.997988;1.982557e-03\n",
    "epoch: 10;\t train:2.729427e-03;0.997999;1.976209e-03;\t test:2.473981e-03;0.998060;1.919954e-03\n",
    "epoch: 11;\t train:2.689615e-03;0.998003;1.990710e-03;\t test:2.450459e-03;0.998045;1.944026e-03\n",
    "epoch: 12;\t train:2.622030e-03;0.998041;1.963532e-03;\t test:2.380635e-03;0.998089;1.908479e-03\n",
    "epoch: 13;\t train:2.578807e-03;0.998059;1.958218e-03;\t test:2.335706e-03;0.998121;1.893565e-03\n",
    "epoch: 14;\t train:2.551879e-03;0.998064;1.965853e-03;\t test:2.312954e-03;0.998113;1.903490e-03\n",
    "epoch: 15;\t train:2.522256e-03;0.998082;1.961232e-03;\t test:2.303426e-03;0.998099;1.930219e-03\n",
    "epoch: 16;\t train:2.495312e-03;0.998091;1.961227e-03;\t test:2.263241e-03;0.998146;1.902489e-03\n",
    "epoch: 17;\t train:2.490665e-03;0.998082;1.978898e-03;\t test:2.232926e-03;0.998146;1.893405e-03\n",
    "epoch: 18;\t train:2.461724e-03;0.998103;1.967563e-03;\t test:2.212702e-03;0.998156;1.902627e-03\n",
    "epoch: 19;\t train:2.435666e-03;0.998113;1.963128e-03;\t test:2.216057e-03;0.998151;1.912212e-03\n",
    "epoch: 20;\t train:2.430657e-03;0.998106;1.974351e-03;\t test:2.198287e-03;0.998147;1.913350e-03\n",
    "epoch: 21;\t train:2.406792e-03;0.998119;1.965306e-03;\t test:2.217045e-03;0.998135;1.939772e-03\n",
    "epoch: 22;\t train:2.401330e-03;0.998113;1.976566e-03;\t test:2.157971e-03;0.998168;1.903121e-03\n",
    "epoch: 23;\t train:2.377004e-03;0.998124;1.965770e-03;\t test:2.145087e-03;0.998180;1.892046e-03\n",
    "epoch: 24;\t train:2.358406e-03;0.998134;1.957436e-03;\t test:2.117331e-03;0.998187;1.891832e-03\n",
    "epoch: 25;\t train:2.345811e-03;0.998140;1.955808e-03;\t test:2.093510e-03;0.998199;1.870854e-03\n",
    "epoch: 26;\t train:2.337744e-03;0.998132;1.963366e-03;\t test:2.078584e-03;0.998210;1.864334e-03\n",
    "epoch: 27;\t train:2.321509e-03;0.998147;1.952241e-03;\t test:2.101865e-03;0.998161;1.904628e-03\n",
    "epoch: 28;\t train:2.294743e-03;0.998157;1.937025e-03;\t test:2.096388e-03;0.998171;1.914421e-03\n",
    "epoch: 29;\t train:2.287704e-03;0.998156;1.939988e-03;\t test:2.064707e-03;0.998185;1.883392e-03\n",
    "epoch: 30;\t train:2.292069e-03;0.998146;1.951809e-03;\t test:2.073996e-03;0.998166;1.904159e-03\n",
    "epoch: 31;\t train:2.286003e-03;0.998144;1.955520e-03;\t test:2.055840e-03;0.998190;1.895645e-03\n",
    "epoch: 32;\t train:2.270660e-03;0.998147;1.951302e-03;\t test:2.040743e-03;0.998185;1.891530e-03\n",
    "epoch: 33;\t train:2.263259e-03;0.998151;1.945909e-03;\t test:2.030071e-03;0.998191;1.884315e-03\n",
    "epoch: 34;\t train:2.235771e-03;0.998170;1.930703e-03;\t test:2.022604e-03;0.998186;1.882471e-03\n",
    "epoch: 35;\t train:2.255102e-03;0.998141;1.958573e-03;\t test:2.009188e-03;0.998199;1.877891e-03\n",
    "epoch: 36;\t train:2.232882e-03;0.998149;1.944517e-03;\t test:1.990995e-03;0.998210;1.863061e-03\n",
    "epoch: 37;\t train:2.231725e-03;0.998143;1.950367e-03;\t test:1.998226e-03;0.998195;1.883976e-03\n",
    "epoch: 38;\t train:2.218047e-03;0.998156;1.937850e-03;\t test:1.979545e-03;0.998205;1.864497e-03\n",
    "epoch: 39;\t train:2.200087e-03;0.998159;1.931305e-03;\t test:1.973347e-03;0.998191;1.880892e-03\n",
    "epoch: 40;\t train:2.202566e-03;0.998150;1.939410e-03;\t test:1.994837e-03;0.998182;1.896326e-03\n",
    "epoch: 41;\t train:2.183048e-03;0.998164;1.925405e-03;\t test:1.939839e-03;0.998205;1.853432e-03\n",
    "epoch: 42;\t train:2.195541e-03;0.998149;1.937124e-03;\t test:1.957445e-03;0.998200;1.867001e-03\n",
    "epoch: 43;\t train:2.180545e-03;0.998152;1.931782e-03;\t test:1.953126e-03;0.998192;1.874773e-03\n",
    "epoch: 44;\t train:2.174843e-03;0.998150;1.933897e-03;\t test:1.914047e-03;0.998217;1.847439e-03\n",
    "epoch: 45;\t train:2.157361e-03;0.998165;1.916715e-03;\t test:1.913314e-03;0.998207;1.838517e-03\n",
    "epoch: 46;\t train:2.156959e-03;0.998156;1.924815e-03;\t test:1.936497e-03;0.998193;1.868637e-03\n",
    "epoch: 47;\t train:2.157999e-03;0.998145;1.930211e-03;\t test:1.906203e-03;0.998200;1.856641e-03\n",
    "epoch: 48;\t train:2.151257e-03;0.998153;1.925433e-03;\t test:1.885017e-03;0.998225;1.833655e-03\n",
    "epoch: 49;\t train:2.133866e-03;0.998161;1.915570e-03;\t test:1.899897e-03;0.998196;1.856046e-03\n",
    "epoch: 50;\t train:2.144251e-03;0.998153;1.925952e-03;\t test:1.913189e-03;0.998188;1.860320e-03\n",
    "epoch: 51;\t train:2.120304e-03;0.998166;1.909684e-03;\t test:1.878335e-03;0.998216;1.843250e-03\n",
    "epoch: 52;\t train:2.118761e-03;0.998163;1.910659e-03;\t test:1.872916e-03;0.998214;1.831733e-03\n",
    "epoch: 53;\t train:2.131803e-03;0.998144;1.928680e-03;\t test:1.892955e-03;0.998185;1.859820e-03\n",
    "epoch: 54;\t train:2.113883e-03;0.998157;1.910651e-03;\t test:1.866570e-03;0.998201;1.841032e-03\n",
    "epoch: 55;\t train:2.117719e-03;0.998155;1.915882e-03;\t test:1.887593e-03;0.998195;1.860031e-03\n",
    "epoch: 56;\t train:2.102330e-03;0.998159;1.910969e-03;\t test:1.872699e-03;0.998186;1.858563e-03\n",
    "epoch: 57;\t train:2.092157e-03;0.998162;1.903453e-03;\t test:1.855528e-03;0.998219;1.833011e-03\n",
    "epoch: 58;\t train:2.101680e-03;0.998151;1.912263e-03;\t test:1.850223e-03;0.998201;1.840876e-03\n",
    "epoch: 59;\t train:2.084532e-03;0.998163;1.903066e-03;\t test:1.847706e-03;0.998173;1.838545e-03\n",
    "epoch: 60;\t train:2.082191e-03;0.998157;1.902522e-03;\t test:1.833392e-03;0.998218;1.814909e-03\n",
    "epoch: 61;\t train:2.081978e-03;0.998157;1.904276e-03;\t test:1.838350e-03;0.998201;1.831248e-03\n",
    "epoch: 62;\t train:2.078435e-03;0.998147;1.910991e-03;\t test:1.842811e-03;0.998191;1.842989e-03\n",
    "epoch: 63;\t train:2.068937e-03;0.998164;1.895081e-03;\t test:1.821261e-03;0.998225;1.815151e-03\n",
    "epoch: 64;\t train:2.060855e-03;0.998164;1.893014e-03;\t test:1.812526e-03;0.998229;1.809251e-03\n",
    "epoch: 65;\t train:2.062946e-03;0.998158;1.897663e-03;\t test:1.825400e-03;0.998190;1.832817e-03\n",
    "epoch: 66;\t train:2.065691e-03;0.998157;1.901188e-03;\t test:1.824216e-03;0.998209;1.829232e-03\n",
    "epoch: 67;\t train:2.058523e-03;0.998153;1.899801e-03;\t test:1.835061e-03;0.998189;1.853190e-03\n",
    "epoch: 68;\t train:2.062134e-03;0.998149;1.904853e-03;\t test:1.789380e-03;0.998235;1.797957e-03\n",
    "epoch: 69;\t train:2.046376e-03;0.998165;1.883837e-03;\t test:1.809016e-03;0.998207;1.829352e-03\n",
    "epoch: 70;\t train:2.035700e-03;0.998168;1.880882e-03;\t test:1.751048e-03;0.998280;1.759422e-03\n",
    "epoch: 71;\t train:2.049104e-03;0.998154;1.894290e-03;\t test:1.793209e-03;0.998236;1.809513e-03\n",
    "epoch: 72;\t train:2.034560e-03;0.998165;1.885493e-03;\t test:1.812120e-03;0.998206;1.833767e-03\n",
    "epoch: 73;\t train:2.030120e-03;0.998163;1.885898e-03;\t test:1.767292e-03;0.998236;1.789575e-03\n",
    "epoch: 74;\t train:2.030656e-03;0.998159;1.884181e-03;\t test:1.788416e-03;0.998211;1.820009e-03\n",
    "epoch: 75;\t train:2.021817e-03;0.998166;1.877315e-03;\t test:1.783175e-03;0.998215;1.825496e-03\n",
    "epoch: 76;\t train:2.032455e-03;0.998154;1.894018e-03;\t test:1.775968e-03;0.998199;1.804366e-03\n",
    "epoch: 77;\t train:2.024566e-03;0.998159;1.883524e-03;\t test:1.771888e-03;0.998216;1.805324e-03\n",
    "epoch: 78;\t train:2.016654e-03;0.998158;1.879841e-03;\t test:1.765155e-03;0.998217;1.791962e-03\n",
    "epoch: 79;\t train:2.007793e-03;0.998164;1.874582e-03;\t test:1.768690e-03;0.998220;1.805722e-03\n",
    "epoch: 80;\t train:2.015825e-03;0.998151;1.886558e-03;\t test:1.788574e-03;0.998200;1.828741e-03\n",
    "epoch: 81;\t train:2.002873e-03;0.998170;1.867381e-03;\t test:1.745784e-03;0.998236;1.780177e-03\n",
    "epoch: 82;\t train:2.006560e-03;0.998163;1.875185e-03;\t test:1.725492e-03;0.998254;1.751409e-03\n",
    "epoch: 83;\t train:1.997080e-03;0.998169;1.868100e-03;\t test:1.749374e-03;0.998224;1.796620e-03\n",
    "epoch: 84;\t train:2.003582e-03;0.998151;1.880399e-03;\t test:1.758725e-03;0.998229;1.799046e-03\n",
    "epoch: 85;\t train:2.003630e-03;0.998157;1.877971e-03;\t test:1.735755e-03;0.998245;1.772320e-03\n",
    "epoch: 86;\t train:1.997714e-03;0.998162;1.873392e-03;\t test:1.734635e-03;0.998244;1.773572e-03\n",
    "epoch: 87;\t train:1.998304e-03;0.998160;1.871322e-03;\t test:1.723640e-03;0.998242;1.767887e-03\n",
    "epoch: 88;\t train:1.983961e-03;0.998165;1.865975e-03;\t test:1.760524e-03;0.998210;1.815574e-03\n",
    "epoch: 89;\t train:1.979606e-03;0.998169;1.860282e-03;\t test:1.740720e-03;0.998237;1.788920e-03\n",
    "epoch: 90;\t train:1.990946e-03;0.998160;1.870187e-03;\t test:1.731797e-03;0.998227;1.785082e-03\n",
    "epoch: 91;\t train:1.980929e-03;0.998163;1.864503e-03;\t test:1.730420e-03;0.998244;1.769952e-03\n",
    "epoch: 92;\t train:1.976506e-03;0.998161;1.862648e-03;\t test:1.730514e-03;0.998206;1.790159e-03\n",
    "epoch: 93;\t train:1.983937e-03;0.998157;1.865912e-03;\t test:1.713548e-03;0.998255;1.757570e-03\n",
    "epoch: 94;\t train:1.986817e-03;0.998148;1.876742e-03;\t test:1.746075e-03;0.998200;1.810326e-03\n",
    "epoch: 95;\t train:1.978338e-03;0.998161;1.863743e-03;\t test:1.747690e-03;0.998191;1.809625e-03\n",
    "epoch: 96;\t train:1.957715e-03;0.998174;1.848099e-03;\t test:1.721624e-03;0.998226;1.778230e-03\n",
    "epoch: 97;\t train:1.964901e-03;0.998164;1.855751e-03;\t test:1.724877e-03;0.998202;1.794390e-03\n",
    "epoch: 98;\t train:1.974797e-03;0.998154;1.866375e-03;\t test:1.698384e-03;0.998245;1.758242e-03\n",
    "epoch: 99;\t train:1.951996e-03;0.998169;1.846682e-03;\t test:1.695731e-03;0.998252;1.753087e-03\n",
    "epoch:100;\t train:1.957041e-03;0.998168;1.852816e-03;\t test:1.717622e-03;0.998227;1.780289e-03\n",
    "epoch:101;\t train:1.959229e-03;0.998166;1.849289e-03;\t test:1.698290e-03;0.998226;1.769115e-03\n",
    "epoch:102;\t train:1.963117e-03;0.998161;1.860136e-03;\t test:1.708180e-03;0.998231;1.774364e-03\n",
    "epoch:103;\t train:1.958846e-03;0.998161;1.851866e-03;\t test:1.688617e-03;0.998240;1.750295e-03\n",
    "epoch:104;\t train:1.950266e-03;0.998165;1.846295e-03;\t test:1.682303e-03;0.998249;1.748441e-03\n",
    "epoch:105;\t train:1.947314e-03;0.998162;1.848350e-03;\t test:1.712715e-03;0.998218;1.788719e-03\n",
    "epoch:106;\t train:1.944567e-03;0.998169;1.845704e-03;\t test:1.690037e-03;0.998227;1.757564e-03\n",
    "epoch:107;\t train:1.946162e-03;0.998162;1.849943e-03;\t test:1.701550e-03;0.998224;1.776447e-03\n",
    "epoch:108;\t train:1.942327e-03;0.998160;1.849166e-03;\t test:1.683410e-03;0.998218;1.756113e-03\n",
    "epoch:109;\t train:1.950314e-03;0.998163;1.849071e-03;\t test:1.689269e-03;0.998237;1.751796e-03\n",
    "epoch:110;\t train:1.940149e-03;0.998162;1.846499e-03;\t test:1.706133e-03;0.998213;1.778873e-03\n",
    "epoch:111;\t train:1.950026e-03;0.998153;1.853707e-03;\t test:1.687481e-03;0.998225;1.769387e-03\n",
    "epoch:112;\t train:1.935485e-03;0.998164;1.842273e-03;\t test:1.703805e-03;0.998197;1.780894e-03\n",
    "epoch:113;\t train:1.931240e-03;0.998168;1.838334e-03;\t test:1.686711e-03;0.998237;1.762585e-03\n",
    "epoch:114;\t train:1.933204e-03;0.998159;1.842947e-03;\t test:1.685796e-03;0.998233;1.761682e-03\n",
    "epoch:115;\t train:1.924323e-03;0.998163;1.836311e-03;\t test:1.689577e-03;0.998223;1.771064e-03\n",
    "epoch:116;\t train:1.934066e-03;0.998157;1.844519e-03;\t test:1.658193e-03;0.998248;1.726638e-03\n",
    "epoch:117;\t train:1.916504e-03;0.998173;1.825332e-03;\t test:1.681975e-03;0.998236;1.759717e-03\n",
    "epoch:118;\t train:1.937037e-03;0.998153;1.848496e-03;\t test:1.648019e-03;0.998263;1.715659e-03\n",
    "epoch:119;\t train:1.927753e-03;0.998162;1.837588e-03;\t test:1.680193e-03;0.998246;1.751597e-03\n",
    "epoch:120;\t train:1.910703e-03;0.998175;1.826327e-03;\t test:1.656181e-03;0.998250;1.729114e-03\n",
    "epoch:121;\t train:1.916942e-03;0.998164;1.833867e-03;\t test:1.674477e-03;0.998218;1.758793e-03\n",
    "epoch:122;\t train:1.914582e-03;0.998165;1.829610e-03;\t test:1.701006e-03;0.998208;1.784399e-03\n",
    "epoch:123;\t train:1.904216e-03;0.998170;1.824957e-03;\t test:1.637818e-03;0.998254;1.718520e-03\n",
    "epoch:124;\t train:1.913303e-03;0.998163;1.835582e-03;\t test:1.654494e-03;0.998257;1.726302e-03\n",
    "epoch:125;\t train:1.914477e-03;0.998164;1.828939e-03;\t test:1.664718e-03;0.998240;1.749180e-03\n",
    "epoch:126;\t train:1.909381e-03;0.998169;1.828083e-03;\t test:1.642541e-03;0.998255;1.723326e-03\n",
    "epoch:127;\t train:1.910297e-03;0.998162;1.829121e-03;\t test:1.658009e-03;0.998245;1.741612e-03\n",
    "epoch:128;\t train:1.894941e-03;0.998174;1.816638e-03;\t test:1.667808e-03;0.998240;1.746601e-03\n",
    "epoch:129;\t train:1.897063e-03;0.998175;1.817369e-03;\t test:1.611494e-03;0.998289;1.689260e-03\n",
    "epoch:130;\t train:1.904374e-03;0.998163;1.825922e-03;\t test:1.696028e-03;0.998209;1.782930e-03\n",
    "epoch:131;\t train:1.897469e-03;0.998169;1.818958e-03;\t test:1.639907e-03;0.998262;1.718865e-03\n",
    "epoch:132;\t train:1.896676e-03;0.998168;1.822203e-03;\t test:1.656733e-03;0.998199;1.735254e-03\n",
    "epoch:133;\t train:1.888372e-03;0.998181;1.805975e-03;\t test:1.639941e-03;0.998249;1.722318e-03\n",
    "epoch:134;\t train:1.897055e-03;0.998166;1.822725e-03;\t test:1.651403e-03;0.998221;1.737028e-03\n",
    "epoch:135;\t train:1.901032e-03;0.998158;1.824155e-03;\t test:1.656554e-03;0.998208;1.743409e-03\n",
    "epoch:136;\t train:1.883892e-03;0.998171;1.810582e-03;\t test:1.635084e-03;0.998254;1.711989e-03\n",
    "epoch:137;\t train:1.875770e-03;0.998181;1.800883e-03;\t test:1.630696e-03;0.998247;1.725041e-03\n",
    "epoch:138;\t train:1.885238e-03;0.998173;1.809954e-03;\t test:1.639237e-03;0.998243;1.729912e-03\n",
    "epoch:139;\t train:1.874199e-03;0.998185;1.801816e-03;\t test:1.635246e-03;0.998260;1.720281e-03\n",
    "epoch:140;\t train:1.873518e-03;0.998179;1.799855e-03;\t test:1.645284e-03;0.998235;1.733169e-03\n",
    "epoch:141;\t train:1.879394e-03;0.998175;1.806345e-03;\t test:1.616585e-03;0.998246;1.700013e-03\n",
    "epoch:142;\t train:1.880777e-03;0.998173;1.810142e-03;\t test:1.628137e-03;0.998241;1.722784e-03\n",
    "epoch:143;\t train:1.871944e-03;0.998180;1.798402e-03;\t test:1.631197e-03;0.998243;1.729013e-03\n",
    "epoch:144;\t train:1.877564e-03;0.998173;1.809544e-03;\t test:1.616343e-03;0.998254;1.709464e-03\n",
    "epoch:145;\t train:1.890594e-03;0.998157;1.823264e-03;\t test:1.634230e-03;0.998236;1.727736e-03\n",
    "epoch:146;\t train:1.886531e-03;0.998162;1.817201e-03;\t test:1.624318e-03;0.998246;1.719381e-03\n",
    "epoch:147;\t train:1.874440e-03;0.998175;1.808245e-03;\t test:1.630531e-03;0.998230;1.720343e-03\n",
    "epoch:148;\t train:1.868084e-03;0.998177;1.802159e-03;\t test:1.621091e-03;0.998250;1.719868e-03\n",
    "epoch:149;\t train:1.879835e-03;0.998168;1.809733e-03;\t test:1.601087e-03;0.998279;1.681282e-03\n",
    "epoch:150;\t train:1.877232e-03;0.998167;1.813161e-03;\t test:1.645365e-03;0.998222;1.742465e-03\n",
    "epoch:151;\t train:1.877490e-03;0.998169;1.807966e-03;\t test:1.583354e-03;0.998282;1.677235e-03\n",
    "epoch:152;\t train:1.877308e-03;0.998163;1.813212e-03;\t test:1.620683e-03;0.998254;1.717420e-03\n",
    "epoch:153;\t train:1.872155e-03;0.998163;1.811156e-03;\t test:1.612033e-03;0.998254;1.706141e-03\n",
    "epoch:154;\t train:1.867014e-03;0.998171;1.802261e-03;\t test:1.618437e-03;0.998267;1.705986e-03\n",
    "epoch:155;\t train:1.860157e-03;0.998181;1.795909e-03;\t test:1.602672e-03;0.998272;1.687542e-03\n",
    "epoch:156;\t train:1.859412e-03;0.998177;1.797438e-03;\t test:1.605902e-03;0.998254;1.707476e-03\n",
    "epoch:157;\t train:1.864669e-03;0.998176;1.801740e-03;\t test:1.599755e-03;0.998250;1.696637e-03\n",
    "epoch:158;\t train:1.854104e-03;0.998178;1.793065e-03;\t test:1.598872e-03;0.998254;1.684055e-03\n",
    "epoch:159;\t train:1.860171e-03;0.998172;1.800850e-03;\t test:1.611142e-03;0.998246;1.704925e-03\n",
    "epoch:160;\t train:1.852212e-03;0.998178;1.794289e-03;\t test:1.611469e-03;0.998225;1.698609e-03\n",
    "epoch:161;\t train:1.860992e-03;0.998166;1.804269e-03;\t test:1.590194e-03;0.998254;1.682296e-03\n",
    "epoch:162;\t train:1.853069e-03;0.998182;1.792252e-03;\t test:1.584271e-03;0.998283;1.669973e-03\n",
    "epoch:163;\t train:1.834967e-03;0.998186;1.777630e-03;\t test:1.598033e-03;0.998238;1.698663e-03\n",
    "epoch:164;\t train:1.858052e-03;0.998166;1.804840e-03;\t test:1.633146e-03;0.998232;1.727582e-03\n",
    "epoch:165;\t train:1.848287e-03;0.998182;1.789628e-03;\t test:1.599949e-03;0.998253;1.698142e-03\n",
    "epoch:166;\t train:1.855852e-03;0.998169;1.800699e-03;\t test:1.594480e-03;0.998257;1.691526e-03\n",
    "epoch:167;\t train:1.853372e-03;0.998177;1.794212e-03;\t test:1.587205e-03;0.998247;1.682705e-03\n",
    "epoch:168;\t train:1.852233e-03;0.998166;1.796503e-03;\t test:1.587872e-03;0.998269;1.686043e-03\n",
    "epoch:169;\t train:1.851236e-03;0.998173;1.793680e-03;\t test:1.596481e-03;0.998254;1.692227e-03\n",
    "epoch:170;\t train:1.848301e-03;0.998171;1.795216e-03;\t test:1.594315e-03;0.998248;1.696821e-03\n",
    "epoch:171;\t train:1.850512e-03;0.998173;1.796500e-03;\t test:1.605680e-03;0.998232;1.705590e-03\n",
    "epoch:172;\t train:1.835529e-03;0.998185;1.782320e-03;\t test:1.561591e-03;0.998276;1.661735e-03\n",
    "epoch:173;\t train:1.843631e-03;0.998173;1.789638e-03;\t test:1.588004e-03;0.998280;1.681172e-03\n",
    "epoch:174;\t train:1.847298e-03;0.998170;1.794227e-03;\t test:1.574913e-03;0.998297;1.659474e-03\n",
    "epoch:175;\t train:1.839972e-03;0.998173;1.791056e-03;\t test:1.593388e-03;0.998262;1.690867e-03\n",
    "epoch:176;\t train:1.853086e-03;0.998162;1.799746e-03;\t test:1.607529e-03;0.998207;1.714027e-03\n",
    "epoch:177;\t train:1.846507e-03;0.998166;1.795070e-03;\t test:1.595957e-03;0.998252;1.699352e-03\n",
    "epoch:178;\t train:1.840421e-03;0.998170;1.790320e-03;\t test:1.575033e-03;0.998278;1.668362e-03\n",
    "epoch:179;\t train:1.830961e-03;0.998186;1.780476e-03;\t test:1.585386e-03;0.998270;1.682214e-03\n",
    "epoch:180;\t train:1.847030e-03;0.998161;1.800986e-03;\t test:1.560828e-03;0.998288;1.652242e-03\n",
    "epoch:181;\t train:1.834592e-03;0.998178;1.783894e-03;\t test:1.592888e-03;0.998253;1.685492e-03\n",
    "epoch:182;\t train:1.832171e-03;0.998176;1.785382e-03;\t test:1.573956e-03;0.998265;1.670764e-03\n",
    "epoch:183;\t train:1.841015e-03;0.998174;1.789013e-03;\t test:1.616894e-03;0.998220;1.718702e-03\n",
    "epoch:184;\t train:1.841716e-03;0.998165;1.797502e-03;\t test:1.567090e-03;0.998284;1.665336e-03\n",
    "epoch:185;\t train:1.832803e-03;0.998177;1.785921e-03;\t test:1.596429e-03;0.998224;1.697853e-03\n",
    "epoch:186;\t train:1.830908e-03;0.998176;1.779822e-03;\t test:1.604599e-03;0.998224;1.708457e-03\n",
    "epoch:187;\t train:1.837941e-03;0.998173;1.790830e-03;\t test:1.593580e-03;0.998244;1.697457e-03\n",
    "epoch:188;\t train:1.818064e-03;0.998184;1.775708e-03;\t test:1.564901e-03;0.998274;1.666812e-03\n",
    "epoch:189;\t train:1.828116e-03;0.998178;1.780298e-03;\t test:1.567333e-03;0.998281;1.667376e-03\n",
    "epoch:190;\t train:1.816807e-03;0.998183;1.775186e-03;\t test:1.596021e-03;0.998236;1.700133e-03\n",
    "epoch:191;\t train:1.832720e-03;0.998171;1.786959e-03;\t test:1.576395e-03;0.998242;1.682536e-03\n",
    "epoch:192;\t train:1.820378e-03;0.998181;1.779073e-03;\t test:1.554926e-03;0.998284;1.652667e-03\n",
    "epoch:193;\t train:1.833939e-03;0.998169;1.790238e-03;\t test:1.555758e-03;0.998271;1.658750e-03\n",
    "epoch:194;\t train:1.825888e-03;0.998178;1.780660e-03;\t test:1.598498e-03;0.998229;1.710364e-03\n",
    "epoch:195;\t train:1.818082e-03;0.998182;1.776328e-03;\t test:1.562833e-03;0.998225;1.657960e-03\n",
    "epoch:196;\t train:1.823951e-03;0.998181;1.780840e-03;\t test:1.568288e-03;0.998276;1.671842e-03\n",
    "epoch:197;\t train:1.823715e-03;0.998174;1.782116e-03;\t test:1.574705e-03;0.998241;1.674632e-03\n",
    "epoch:198;\t train:1.821689e-03;0.998178;1.779397e-03;\t test:1.583859e-03;0.998252;1.684846e-03\n",
    "epoch:199;\t train:1.810914e-03;0.998190;1.768230e-03;\t test:1.582210e-03;0.998262;1.686262e-03\n",
    "epoch:200;\t train:1.798791e-03;0.998199;1.759126e-03;\t test:1.549117e-03;0.998269;1.648652e-03\n",
    "epoch:201;\t train:1.819299e-03;0.998176;1.781852e-03;\t test:1.555365e-03;0.998264;1.658126e-03\n",
    "epoch:202;\t train:1.819213e-03;0.998177;1.778822e-03;\t test:1.587336e-03;0.998245;1.693344e-03\n",
    "epoch:203;\t train:1.816824e-03;0.998180;1.778361e-03;\t test:1.587804e-03;0.998246;1.699874e-03\n",
    "epoch:204;\t train:1.815010e-03;0.998183;1.779108e-03;\t test:1.554912e-03;0.998278;1.661619e-03\n",
    "epoch:205;\t train:1.825317e-03;0.998170;1.786112e-03;\t test:1.579589e-03;0.998256;1.689275e-03\n",
    "epoch:206;\t train:1.805602e-03;0.998187;1.771058e-03;\t test:1.562814e-03;0.998259;1.662732e-03\n",
    "epoch:207;\t train:1.809588e-03;0.998181;1.772396e-03;\t test:1.589664e-03;0.998232;1.710759e-03\n",
    "epoch:208;\t train:1.823234e-03;0.998172;1.787417e-03;\t test:1.543306e-03;0.998283;1.652735e-03\n",
    "epoch:209;\t train:1.807804e-03;0.998183;1.773715e-03;\t test:1.569045e-03;0.998246;1.678679e-03\n",
    "epoch:210;\t train:1.817308e-03;0.998177;1.776584e-03;\t test:1.563504e-03;0.998247;1.674782e-03\n",
    "epoch:211;\t train:1.805781e-03;0.998181;1.772718e-03;\t test:1.563791e-03;0.998272;1.664468e-03\n",
    "epoch:212;\t train:1.815133e-03;0.998174;1.783351e-03;\t test:1.564303e-03;0.998264;1.673682e-03\n",
    "epoch:213;\t train:1.811795e-03;0.998177;1.775613e-03;\t test:1.555698e-03;0.998251;1.653375e-03\n",
    "epoch:214;\t train:1.808775e-03;0.998178;1.774716e-03;\t test:1.551077e-03;0.998284;1.653240e-03\n",
    "epoch:215;\t train:1.811678e-03;0.998181;1.773268e-03;\t test:1.557645e-03;0.998274;1.661418e-03\n",
    "epoch:216;\t train:1.798926e-03;0.998182;1.768653e-03;\t test:1.558929e-03;0.998251;1.674341e-03\n",
    "epoch:217;\t train:1.804423e-03;0.998178;1.773621e-03;\t test:1.571913e-03;0.998252;1.683196e-03\n",
    "epoch:218;\t train:1.806097e-03;0.998179;1.774832e-03;\t test:1.583880e-03;0.998231;1.695431e-03\n",
    "epoch:219;\t train:1.795281e-03;0.998191;1.764183e-03;\t test:1.542611e-03;0.998264;1.648016e-03\n",
    "epoch:220;\t train:1.805016e-03;0.998177;1.773090e-03;\t test:1.585832e-03;0.998231;1.690039e-03\n",
    "epoch:221;\t train:1.802024e-03;0.998184;1.768953e-03;\t test:1.550246e-03;0.998256;1.661118e-03\n",
    "epoch:222;\t train:1.802831e-03;0.998175;1.772400e-03;\t test:1.571187e-03;0.998246;1.686577e-03\n",
    "epoch:223;\t train:1.809174e-03;0.998183;1.774792e-03;\t test:1.559745e-03;0.998254;1.668442e-03\n",
    "epoch:224;\t train:1.788652e-03;0.998195;1.758119e-03;\t test:1.559282e-03;0.998245;1.677023e-03\n",
    "epoch:225;\t train:1.800592e-03;0.998180;1.772447e-03;\t test:1.551667e-03;0.998263;1.662395e-03\n",
    "epoch:226;\t train:1.793550e-03;0.998187;1.764181e-03;\t test:1.538833e-03;0.998270;1.652131e-03\n",
    "epoch:227;\t train:1.792283e-03;0.998188;1.764796e-03;\t test:1.551473e-03;0.998264;1.666740e-03\n",
    "epoch:228;\t train:1.800876e-03;0.998182;1.772607e-03;\t test:1.577155e-03;0.998233;1.688556e-03\n",
    "epoch:229;\t train:1.798521e-03;0.998183;1.768764e-03;\t test:1.549589e-03;0.998277;1.661101e-03\n",
    "epoch:230;\t train:1.795965e-03;0.998178;1.769962e-03;\t test:1.529934e-03;0.998309;1.628623e-03\n",
    "epoch:231;\t train:1.792006e-03;0.998189;1.759237e-03;\t test:1.542665e-03;0.998283;1.651452e-03\n",
    "epoch:232;\t train:1.783514e-03;0.998194;1.757133e-03;\t test:1.568880e-03;0.998233;1.681167e-03\n",
    "epoch:233;\t train:1.785713e-03;0.998189;1.757496e-03;\t test:1.560105e-03;0.998239;1.667954e-03\n",
    "epoch:234;\t train:1.793533e-03;0.998181;1.764784e-03;\t test:1.533997e-03;0.998295;1.646792e-03\n",
    "epoch:235;\t train:1.782693e-03;0.998190;1.758399e-03;\t test:1.545972e-03;0.998267;1.658018e-03\n",
    "epoch:236;\t train:1.790057e-03;0.998183;1.764015e-03;\t test:1.558239e-03;0.998253;1.673304e-03\n",
    "epoch:237;\t train:1.799414e-03;0.998174;1.773429e-03;\t test:1.541055e-03;0.998276;1.655746e-03\n",
    "epoch:238;\t train:1.791328e-03;0.998178;1.766485e-03;\t test:1.524278e-03;0.998291;1.629377e-03\n",
    "epoch:239;\t train:1.786037e-03;0.998190;1.758144e-03;\t test:1.576908e-03;0.998235;1.695633e-03\n",
    "epoch:240;\t train:1.773244e-03;0.998195;1.749212e-03;\t test:1.544154e-03;0.998268;1.654638e-03\n",
    "epoch:241;\t train:1.785447e-03;0.998186;1.760054e-03;\t test:1.548431e-03;0.998264;1.665778e-03\n",
    "epoch:242;\t train:1.790857e-03;0.998178;1.766409e-03;\t test:1.543751e-03;0.998277;1.655902e-03\n",
    "epoch:243;\t train:1.779179e-03;0.998189;1.756189e-03;\t test:1.544217e-03;0.998260;1.649151e-03\n",
    "epoch:244;\t train:1.785379e-03;0.998189;1.759953e-03;\t test:1.551040e-03;0.998262;1.666844e-03\n",
    "epoch:245;\t train:1.783212e-03;0.998189;1.761598e-03;\t test:1.528535e-03;0.998297;1.641673e-03\n",
    "epoch:246;\t train:1.786482e-03;0.998176;1.767634e-03;\t test:1.547900e-03;0.998242;1.660919e-03\n",
    "epoch:247;\t train:1.789871e-03;0.998180;1.765301e-03;\t test:1.540191e-03;0.998286;1.651313e-03\n",
    "epoch:248;\t train:1.786151e-03;0.998182;1.763600e-03;\t test:1.539533e-03;0.998273;1.647589e-03\n",
    "epoch:249;\t train:1.777566e-03;0.998192;1.757972e-03;\t test:1.558636e-03;0.998242;1.675277e-03\n",
    "epoch:250;\t train:1.779511e-03;0.998186;1.757326e-03;\t test:1.550706e-03;0.998261;1.677985e-03\n",
    "epoch:251;\t train:1.773650e-03;0.998191;1.753316e-03;\t test:1.535798e-03;0.998264;1.645945e-03\n",
    "epoch:252;\t train:1.777113e-03;0.998189;1.757414e-03;\t test:1.523955e-03;0.998286;1.639693e-03\n",
    "epoch:253;\t train:1.784917e-03;0.998180;1.764052e-03;\t test:1.560880e-03;0.998242;1.677311e-03\n",
    "epoch:254;\t train:1.778401e-03;0.998188;1.757951e-03;\t test:1.526835e-03;0.998295;1.638547e-03\n",
    "epoch:255;\t train:1.779304e-03;0.998185;1.758521e-03;\t test:1.552887e-03;0.998242;1.669479e-03\n",
    "epoch:256;\t train:1.773055e-03;0.998196;1.753847e-03;\t test:1.544603e-03;0.998249;1.658091e-03\n",
    "epoch:257;\t train:1.767268e-03;0.998198;1.745929e-03;\t test:1.537967e-03;0.998267;1.646910e-03\n",
    "epoch:258;\t train:1.770942e-03;0.998194;1.749410e-03;\t test:1.522876e-03;0.998297;1.624184e-03\n",
    "epoch:259;\t train:1.762668e-03;0.998196;1.744071e-03;\t test:1.551876e-03;0.998230;1.676134e-03\n",
    "epoch:260;\t train:1.762120e-03;0.998199;1.744497e-03;\t test:1.544785e-03;0.998258;1.664005e-03\n",
    "epoch:261;\t train:1.788397e-03;0.998176;1.770256e-03;\t test:1.535806e-03;0.998270;1.651772e-03\n",
    "epoch:262;\t train:1.759788e-03;0.998202;1.742704e-03;\t test:1.536359e-03;0.998273;1.646913e-03\n",
    "epoch:263;\t train:1.770137e-03;0.998191;1.750574e-03;\t test:1.554502e-03;0.998249;1.668124e-03\n",
    "epoch:264;\t train:1.767527e-03;0.998190;1.749011e-03;\t test:1.514543e-03;0.998308;1.616072e-03\n",
    "epoch:265;\t train:1.759636e-03;0.998204;1.742889e-03;\t test:1.526982e-03;0.998278;1.643783e-03\n",
    "epoch:266;\t train:1.771731e-03;0.998190;1.753953e-03;\t test:1.542019e-03;0.998261;1.659137e-03\n",
    "epoch:267;\t train:1.764439e-03;0.998192;1.750624e-03;\t test:1.530811e-03;0.998266;1.653643e-03\n",
    "epoch:268;\t train:1.767282e-03;0.998187;1.752563e-03;\t test:1.543417e-03;0.998268;1.656311e-03\n",
    "epoch:269;\t train:1.774337e-03;0.998179;1.761469e-03;\t test:1.536454e-03;0.998271;1.651964e-03\n",
    "epoch:270;\t train:1.771376e-03;0.998183;1.756665e-03;\t test:1.528656e-03;0.998270;1.641289e-03\n",
    "epoch:271;\t train:1.760399e-03;0.998200;1.742491e-03;\t test:1.531602e-03;0.998272;1.653061e-03\n",
    "epoch:272;\t train:1.769563e-03;0.998182;1.757120e-03;\t test:1.528866e-03;0.998286;1.635693e-03\n",
    "epoch:273;\t train:1.765032e-03;0.998188;1.751425e-03;\t test:1.500146e-03;0.998318;1.613333e-03\n",
    "epoch:274;\t train:1.765174e-03;0.998194;1.748749e-03;\t test:1.510612e-03;0.998286;1.626970e-03\n",
    "epoch:275;\t train:1.763802e-03;0.998192;1.747123e-03;\t test:1.502151e-03;0.998279;1.609162e-03\n",
    "epoch:276;\t train:1.762557e-03;0.998192;1.750547e-03;\t test:1.551885e-03;0.998252;1.663663e-03\n",
    "epoch:277;\t train:1.759296e-03;0.998195;1.744226e-03;\t test:1.531813e-03;0.998266;1.656330e-03\n",
    "epoch:278;\t train:1.764982e-03;0.998192;1.752890e-03;\t test:1.500420e-03;0.998299;1.609175e-03\n",
    "epoch:279;\t train:1.756522e-03;0.998199;1.738452e-03;\t test:1.505595e-03;0.998300;1.618378e-03\n",
    "epoch:280;\t train:1.759214e-03;0.998193;1.749936e-03;\t test:1.512611e-03;0.998285;1.627457e-03\n",
    "epoch:281;\t train:1.758772e-03;0.998191;1.747398e-03;\t test:1.521610e-03;0.998280;1.641856e-03\n",
    "epoch:282;\t train:1.766633e-03;0.998187;1.753364e-03;\t test:1.540163e-03;0.998262;1.658465e-03\n",
    "epoch:283;\t train:1.758709e-03;0.998192;1.749825e-03;\t test:1.513231e-03;0.998305;1.625709e-03\n",
    "epoch:284;\t train:1.768344e-03;0.998184;1.755780e-03;\t test:1.517630e-03;0.998284;1.636530e-03\n",
    "epoch:285;\t train:1.763028e-03;0.998187;1.749548e-03;\t test:1.522962e-03;0.998284;1.640828e-03\n",
    "epoch:286;\t train:1.753511e-03;0.998186;1.750245e-03;\t test:1.534547e-03;0.998262;1.651012e-03\n",
    "epoch:287;\t train:1.766027e-03;0.998179;1.754612e-03;\t test:1.523441e-03;0.998280;1.635945e-03\n",
    "epoch:288;\t train:1.750912e-03;0.998203;1.740678e-03;\t test:1.505761e-03;0.998292;1.616056e-03\n",
    "epoch:289;\t train:1.754335e-03;0.998191;1.748324e-03;\t test:1.542633e-03;0.998241;1.678037e-03\n",
    "epoch:290;\t train:1.756657e-03;0.998196;1.743974e-03;\t test:1.526555e-03;0.998267;1.640402e-03\n",
    "epoch:291;\t train:1.749320e-03;0.998195;1.743232e-03;\t test:1.512002e-03;0.998280;1.625426e-03\n",
    "epoch:292;\t train:1.747131e-03;0.998196;1.741453e-03;\t test:1.513610e-03;0.998283;1.634915e-03\n",
    "epoch:293;\t train:1.746399e-03;0.998201;1.734935e-03;\t test:1.517861e-03;0.998273;1.633563e-03\n",
    "epoch:294;\t train:1.750813e-03;0.998194;1.742852e-03;\t test:1.508398e-03;0.998278;1.625792e-03\n",
    "epoch:295;\t train:1.746867e-03;0.998202;1.734493e-03;\t test:1.524891e-03;0.998266;1.634879e-03\n",
    "epoch:296;\t train:1.747375e-03;0.998196;1.739177e-03;\t test:1.513143e-03;0.998287;1.637375e-03\n",
    "epoch:297;\t train:1.756006e-03;0.998187;1.749449e-03;\t test:1.519398e-03;0.998267;1.632857e-03\n",
    "epoch:298;\t train:1.758894e-03;0.998183;1.748553e-03;\t test:1.528059e-03;0.998267;1.654845e-03\n",
    "epoch:299;\t train:1.750804e-03;0.998191;1.746632e-03;\t test:1.508913e-03;0.998284;1.625640e-03\n",
    "epoch:300;\t train:1.740579e-03;0.998202;1.734769e-03;\t test:1.517838e-03;0.998267;1.636619e-03\n",
    "epoch:301;\t train:1.744464e-03;0.998195;1.739666e-03;\t test:1.501627e-03;0.998272;1.621578e-03\n",
    "epoch:302;\t train:1.742622e-03;0.998201;1.735471e-03;\t test:1.503843e-03;0.998280;1.628047e-03\n",
    "epoch:303;\t train:1.754225e-03;0.998190;1.745869e-03;\t test:1.502321e-03;0.998284;1.625932e-03\n",
    "epoch:304;\t train:1.746352e-03;0.998196;1.741822e-03;\t test:1.489198e-03;0.998303;1.603468e-03\n",
    "epoch:305;\t train:1.741994e-03;0.998194;1.740198e-03;\t test:1.529058e-03;0.998258;1.645150e-03\n",
    "epoch:306;\t train:1.743578e-03;0.998200;1.736868e-03;\t test:1.496612e-03;0.998306;1.613270e-03\n",
    "epoch:307;\t train:1.744466e-03;0.998195;1.741298e-03;\t test:1.481071e-03;0.998325;1.588532e-03\n",
    "epoch:308;\t train:1.748344e-03;0.998188;1.746885e-03;\t test:1.501747e-03;0.998295;1.616619e-03\n",
    "epoch:309;\t train:1.754451e-03;0.998184;1.750938e-03;\t test:1.528608e-03;0.998253;1.648593e-03\n",
    "epoch:310;\t train:1.747689e-03;0.998195;1.746432e-03;\t test:1.488848e-03;0.998292;1.612130e-03\n",
    "epoch:311;\t train:1.747781e-03;0.998194;1.739688e-03;\t test:1.532615e-03;0.998237;1.657347e-03\n",
    "epoch:312;\t train:1.729778e-03;0.998211;1.726609e-03;\t test:1.497249e-03;0.998293;1.611126e-03\n",
    "epoch:313;\t train:1.743095e-03;0.998193;1.742946e-03;\t test:1.525121e-03;0.998281;1.643941e-03\n",
    "epoch:314;\t train:1.742202e-03;0.998199;1.735409e-03;\t test:1.510524e-03;0.998262;1.634769e-03\n",
    "epoch:315;\t train:1.732062e-03;0.998198;1.734360e-03;\t test:1.506482e-03;0.998283;1.633092e-03\n",
    "epoch:316;\t train:1.734055e-03;0.998206;1.731067e-03;\t test:1.481699e-03;0.998303;1.595393e-03\n",
    "epoch:317;\t train:1.732849e-03;0.998204;1.728780e-03;\t test:1.490280e-03;0.998258;1.611890e-03\n",
    "epoch:318;\t train:1.736576e-03;0.998197;1.735159e-03;\t test:1.506050e-03;0.998283;1.622788e-03\n",
    "epoch:319;\t train:1.735001e-03;0.998202;1.728201e-03;\t test:1.515646e-03;0.998257;1.631941e-03\n",
    "epoch:320;\t train:1.735533e-03;0.998198;1.736077e-03;\t test:1.518221e-03;0.998257;1.638444e-03\n",
    "epoch:321;\t train:1.742180e-03;0.998193;1.740464e-03;\t test:1.511645e-03;0.998273;1.632047e-03\n",
    "epoch:322;\t train:1.723593e-03;0.998216;1.719681e-03;\t test:1.506411e-03;0.998277;1.629776e-03\n",
    "epoch:323;\t train:1.736746e-03;0.998196;1.738227e-03;\t test:1.494327e-03;0.998280;1.614467e-03\n",
    "epoch:324;\t train:1.736096e-03;0.998197;1.735252e-03;\t test:1.522622e-03;0.998261;1.640855e-03\n",
    "epoch:325;\t train:1.727839e-03;0.998210;1.724616e-03;\t test:1.517728e-03;0.998265;1.636625e-03\n",
    "epoch:326;\t train:1.735519e-03;0.998200;1.737092e-03;\t test:1.496784e-03;0.998294;1.616250e-03\n",
    "epoch:327;\t train:1.733041e-03;0.998199;1.728904e-03;\t test:1.479964e-03;0.998295;1.597638e-03\n",
    "epoch:328;\t train:1.734517e-03;0.998198;1.734604e-03;\t test:1.484250e-03;0.998273;1.599472e-03\n",
    "epoch:329;\t train:1.729189e-03;0.998200;1.732086e-03;\t test:1.505624e-03;0.998271;1.634605e-03\n",
    "epoch:330;\t train:1.737407e-03;0.998200;1.735272e-03;\t test:1.527865e-03;0.998256;1.642971e-03\n",
    "epoch:331;\t train:1.728832e-03;0.998196;1.729405e-03;\t test:1.472531e-03;0.998292;1.588881e-03\n",
    "epoch:332;\t train:1.728678e-03;0.998196;1.732037e-03;\t test:1.509487e-03;0.998269;1.631945e-03\n",
    "epoch:333;\t train:1.724851e-03;0.998206;1.723444e-03;\t test:1.524483e-03;0.998249;1.651794e-03\n",
    "epoch:334;\t train:1.731702e-03;0.998191;1.737996e-03;\t test:1.486016e-03;0.998299;1.605189e-03\n",
    "epoch:335;\t train:1.729920e-03;0.998198;1.731456e-03;\t test:1.493677e-03;0.998272;1.617859e-03\n",
    "epoch:336;\t train:1.736017e-03;0.998190;1.740526e-03;\t test:1.491027e-03;0.998293;1.604960e-03\n",
    "epoch:337;\t train:1.716642e-03;0.998210;1.719632e-03;\t test:1.478883e-03;0.998291;1.604891e-03\n",
    "epoch:338;\t train:1.729949e-03;0.998202;1.728065e-03;\t test:1.496348e-03;0.998280;1.618065e-03\n",
    "epoch:339;\t train:1.720625e-03;0.998204;1.724505e-03;\t test:1.496599e-03;0.998284;1.611898e-03\n",
    "epoch:340;\t train:1.720857e-03;0.998203;1.726514e-03;\t test:1.512925e-03;0.998262;1.627586e-03\n",
    "epoch:341;\t train:1.731468e-03;0.998199;1.731833e-03;\t test:1.470431e-03;0.998296;1.597067e-03\n",
    "epoch:342;\t train:1.721220e-03;0.998202;1.725259e-03;\t test:1.506606e-03;0.998271;1.629070e-03\n",
    "epoch:343;\t train:1.727795e-03;0.998201;1.729709e-03;\t test:1.500946e-03;0.998266;1.629895e-03\n",
    "epoch:344;\t train:1.724085e-03;0.998201;1.728544e-03;\t test:1.502905e-03;0.998257;1.626882e-03\n",
    "epoch:345;\t train:1.716759e-03;0.998203;1.723938e-03;\t test:1.471071e-03;0.998313;1.592714e-03\n",
    "epoch:346;\t train:1.723908e-03;0.998203;1.724705e-03;\t test:1.476414e-03;0.998313;1.596001e-03\n",
    "epoch:347;\t train:1.724321e-03;0.998203;1.727730e-03;\t test:1.515290e-03;0.998267;1.647826e-03\n",
    "epoch:348;\t train:1.713910e-03;0.998210;1.719472e-03;\t test:1.460633e-03;0.998330;1.581161e-03\n",
    "epoch:349;\t train:1.727733e-03;0.998197;1.732802e-03;\t test:1.476737e-03;0.998284;1.602662e-03"
   ]
  },
  {
   "cell_type": "markdown",
   "metadata": {},
   "source": [
    "## Test"
   ]
  },
  {
   "cell_type": "markdown",
   "metadata": {},
   "source": [
    "### Prepare the test data"
   ]
  },
  {
   "cell_type": "code",
   "execution_count": 28,
   "metadata": {},
   "outputs": [
    {
     "name": "stdout",
     "output_type": "stream",
     "text": [
      "('tensor shape:', (1L, 3L, 512L, 512L))\n"
     ]
    }
   ],
   "source": [
    "test_image, test_label = test_dataset[5]\n",
    "test_image2, test_label2 = test_transform(test_image, test_label)\n",
    "test_image2 = nd.expand_dims(test_image2,0)\n",
    "print('tensor shape:', test_image2.shape)"
   ]
  },
  {
   "cell_type": "markdown",
   "metadata": {},
   "source": [
    "### Network inference"
   ]
  },
  {
   "cell_type": "code",
   "execution_count": 29,
   "metadata": {},
   "outputs": [],
   "source": [
    "anchors, cls_preds, box_preds = net(test_image2.as_in_context(ctx))"
   ]
  },
  {
   "cell_type": "markdown",
   "metadata": {},
   "source": [
    "### Convert predictions to real object detection results"
   ]
  },
  {
   "cell_type": "code",
   "execution_count": 30,
   "metadata": {},
   "outputs": [],
   "source": [
    "from mxnet.contrib.ndarray import MultiBoxDetection\n",
    "cls_probs = nd.SoftmaxActivation(nd.transpose(cls_preds, (0, 2, 1)), mode='channel')\n",
    "output = MultiBoxDetection(cls_prob=cls_probs, loc_pred=box_preds, anchor=anchors, force_suppress=True, clip=True, nms_topk=250)"
   ]
  },
  {
   "cell_type": "markdown",
   "metadata": {},
   "source": [
    "### Display results"
   ]
  },
  {
   "cell_type": "code",
   "execution_count": 31,
   "metadata": {},
   "outputs": [
    {
     "name": "stderr",
     "output_type": "stream",
     "text": [
      "WARNING:matplotlib.image:Clipping input data to the valid range for imshow with RGB data ([0..1] for floats or [0..255] for integers).\n"
     ]
    },
    {
     "data": {
      "image/png": "[encoded data removed]",
      "text/plain": [
       "<Figure size 720x720 with 1 Axes>"
      ]
     },
     "metadata": {},
     "output_type": "display_data"
    }
   ],
   "source": [
    "class_names = ('cluster')\n",
    "def display(img, out, thresh=0.5):\n",
    "    import random\n",
    "    import matplotlib as mpl\n",
    "    import numpy as np\n",
    "    mpl.rcParams['figure.figsize'] = (10,10)\n",
    "    img = img.asnumpy()\n",
    "    img = np.transpose(img,(2,3,1,0))\n",
    "    img = np.squeeze(img)\n",
    "    plt.clf()\n",
    "    plt.imshow(img)\n",
    "    for det in out:\n",
    "        cid = int(det[0])\n",
    "        if cid == 0:\n",
    "            continue\n",
    "        score = det[1]\n",
    "        if score < thresh:\n",
    "            continue\n",
    "        scales = [img.shape[1], img.shape[0]] * 2\n",
    "        xmin, ymin, xmax, ymax = [int(p * s) for p, s in zip(det[2:6].tolist(), scales)]\n",
    "        rect = plt.Rectangle((xmin, ymin), xmax - xmin, ymax - ymin, fill=False,\n",
    "                             edgecolor='red', linewidth=3)\n",
    "        plt.gca().add_patch(rect)\n",
    "        text = class_names[cid]\n",
    "        plt.gca().text(xmin, ymin-2, '{:s} {:.3f}'.format(text, score),\n",
    "                       bbox=dict(facecolor='red', alpha=0.5),\n",
    "                       fontsize=12, color='white')\n",
    "\n",
    "display(test_image2, output[0].asnumpy(), thresh=0.35)"
   ]
  }
 ],
 "metadata": {
  "kernelspec": {
   "display_name": "Python 2",
   "language": "python",
   "name": "python2"
  },
  "language_info": {
   "codemirror_mode": {
    "name": "ipython",
    "version": 2
   },
   "file_extension": ".py",
   "mimetype": "text/x-python",
   "name": "python",
   "nbconvert_exporter": "python",
   "pygments_lexer": "ipython2",
   "version": "2.7.15rc1"
  }
 },
 "nbformat": 4,
 "nbformat_minor": 2
}
